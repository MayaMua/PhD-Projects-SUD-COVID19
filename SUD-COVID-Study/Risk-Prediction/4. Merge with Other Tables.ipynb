{
 "cells": [
  {
   "cell_type": "code",
   "execution_count": 99,
   "metadata": {
    "ExecuteTime": {
     "end_time": "2023-10-28T17:42:24.749361Z",
     "start_time": "2023-10-28T17:42:24.608685Z"
    }
   },
   "outputs": [],
   "source": [
    "import pandas as pd\n",
    "import matplotlib.pyplot as plt\n",
    "import os\n",
    "from utils import *\n",
    "from config import *\n",
    "import numpy as np"
   ]
  },
  {
   "cell_type": "code",
   "execution_count": 100,
   "metadata": {
    "ExecuteTime": {
     "end_time": "2023-10-28T17:42:24.758628Z",
     "start_time": "2023-10-28T17:42:24.613346Z"
    },
    "collapsed": false
   },
   "outputs": [],
   "source": [
    "dead_patients = load_processed_data('patient_dead', data_path=PROCESSED_ML_DATA_PATH)\n",
    "dead_patients['Full Vaccination'] = np.where(dead_patients['admission_after_vaccine'] == 'Yes', 1, 0)\n",
    "dead_patients = dead_patients.drop(columns=['admission_after_vaccine'])"
   ]
  },
  {
   "cell_type": "code",
   "execution_count": 101,
   "metadata": {
    "ExecuteTime": {
     "end_time": "2023-10-28T17:42:24.953413Z",
     "start_time": "2023-10-28T17:42:24.619745Z"
    },
    "collapsed": false
   },
   "outputs": [
    {
     "data": {
      "text/plain": [
       "patient_num                57\n",
       "encounter_num              57\n",
       "dx_date_shifted            53\n",
       "age_at_visit_years         37\n",
       "payor_type_primary_name     9\n",
       "admit_date_shifted         53\n",
       "discharge_date_shifted     55\n",
       "dx_code_list               57\n",
       "total_length_of_stay       28\n",
       "Alcohol Use Disorder        2\n",
       "Cannabis Use Disorder       2\n",
       "Cocaine Use Disorder        2\n",
       "Opioid Use Disorder         2\n",
       "Tobacco Use Disorder        2\n",
       "Death                       1\n",
       "Full Vaccination            2\n",
       "dtype: int64"
      ]
     },
     "execution_count": 101,
     "metadata": {},
     "output_type": "execute_result"
    }
   ],
   "source": [
    "dead_patients.nunique()"
   ]
  },
  {
   "cell_type": "code",
   "execution_count": 102,
   "metadata": {
    "ExecuteTime": {
     "end_time": "2023-10-28T17:42:25.053984Z",
     "start_time": "2023-10-28T17:42:24.627660Z"
    },
    "collapsed": false
   },
   "outputs": [],
   "source": [
    "alive_patients = load_processed_data('patient_30_day_read', data_path=PROCESSED_ML_DATA_PATH)\n",
    "alive_patients['Readmission'] = np.where(alive_patients['30_day_readmission'] == True, 1, 0).astype(int)\n",
    "alive_patients = alive_patients.drop(columns=['30_day_readmission'])\n",
    "alive_patients['Full Vaccination'] = np.where(alive_patients['admission_after_vaccine'] == 'Yes', 1, 0).astype(int)\n",
    "alive_patients = alive_patients.drop(columns=['admission_after_vaccine'])"
   ]
  },
  {
   "cell_type": "code",
   "execution_count": 103,
   "metadata": {
    "ExecuteTime": {
     "end_time": "2023-10-28T17:42:25.062759Z",
     "start_time": "2023-10-28T17:42:24.650425Z"
    },
    "collapsed": false
   },
   "outputs": [
    {
     "data": {
      "text/plain": [
       "patient_num                4435\n",
       "encounter_num              7249\n",
       "dx_date_shifted             990\n",
       "age_at_visit_years           80\n",
       "payor_type_primary_name      21\n",
       "admit_date_shifted          990\n",
       "discharge_date_shifted      989\n",
       "dx_code_list               7137\n",
       "total_length_of_stay         45\n",
       "Alcohol Use Disorder          2\n",
       "Cannabis Use Disorder         2\n",
       "Cocaine Use Disorder          2\n",
       "Opioid Use Disorder           2\n",
       "Tobacco Use Disorder          2\n",
       "Death                         1\n",
       "Readmission                   2\n",
       "Full Vaccination              2\n",
       "dtype: int64"
      ]
     },
     "execution_count": 103,
     "metadata": {},
     "output_type": "execute_result"
    }
   ],
   "source": [
    "alive_patients.nunique()"
   ]
  },
  {
   "cell_type": "code",
   "execution_count": 104,
   "metadata": {
    "ExecuteTime": {
     "end_time": "2023-10-28T17:42:25.063127Z",
     "start_time": "2023-10-28T17:42:24.658710Z"
    }
   },
   "outputs": [
    {
     "data": {
      "text/html": [
       "<div>\n",
       "<style scoped>\n",
       "    .dataframe tbody tr th:only-of-type {\n",
       "        vertical-align: middle;\n",
       "    }\n",
       "\n",
       "    .dataframe tbody tr th {\n",
       "        vertical-align: top;\n",
       "    }\n",
       "\n",
       "    .dataframe thead th {\n",
       "        text-align: right;\n",
       "    }\n",
       "</style>\n",
       "<table border=\"1\" class=\"dataframe\">\n",
       "  <thead>\n",
       "    <tr style=\"text-align: right;\">\n",
       "      <th></th>\n",
       "      <th>patient_num</th>\n",
       "      <th>encounter_num</th>\n",
       "      <th>dx_date_shifted</th>\n",
       "      <th>age_at_visit_years</th>\n",
       "      <th>payor_type_primary_name</th>\n",
       "      <th>admit_date_shifted</th>\n",
       "      <th>discharge_date_shifted</th>\n",
       "      <th>dx_code_list</th>\n",
       "      <th>total_length_of_stay</th>\n",
       "      <th>Alcohol Use Disorder</th>\n",
       "      <th>Cannabis Use Disorder</th>\n",
       "      <th>Cocaine Use Disorder</th>\n",
       "      <th>Opioid Use Disorder</th>\n",
       "      <th>Tobacco Use Disorder</th>\n",
       "      <th>Death</th>\n",
       "      <th>Full Vaccination</th>\n",
       "      <th>Readmission</th>\n",
       "    </tr>\n",
       "  </thead>\n",
       "  <tbody>\n",
       "    <tr>\n",
       "      <th>0</th>\n",
       "      <td>17852216</td>\n",
       "      <td>115824905</td>\n",
       "      <td>2020-10-23</td>\n",
       "      <td>68</td>\n",
       "      <td>MEDICARE</td>\n",
       "      <td>2020-10-23</td>\n",
       "      <td>2020-11-02</td>\n",
       "      <td>['G62.9', 'D69.6', 'Z66', 'J12.89', 'E88.09', ...</td>\n",
       "      <td>11</td>\n",
       "      <td>1</td>\n",
       "      <td>0</td>\n",
       "      <td>0</td>\n",
       "      <td>0</td>\n",
       "      <td>0</td>\n",
       "      <td>1</td>\n",
       "      <td>0</td>\n",
       "      <td>NaN</td>\n",
       "    </tr>\n",
       "    <tr>\n",
       "      <th>1</th>\n",
       "      <td>18344206</td>\n",
       "      <td>242777887</td>\n",
       "      <td>2021-09-27</td>\n",
       "      <td>77</td>\n",
       "      <td>Medicare HMO</td>\n",
       "      <td>2021-09-27</td>\n",
       "      <td>2021-09-27</td>\n",
       "      <td>['Z87.891', 'R41.82', 'D64.9', 'I69.351', 'I10...</td>\n",
       "      <td>1</td>\n",
       "      <td>1</td>\n",
       "      <td>0</td>\n",
       "      <td>0</td>\n",
       "      <td>0</td>\n",
       "      <td>0</td>\n",
       "      <td>1</td>\n",
       "      <td>0</td>\n",
       "      <td>NaN</td>\n",
       "    </tr>\n",
       "    <tr>\n",
       "      <th>2</th>\n",
       "      <td>18431357</td>\n",
       "      <td>177586588</td>\n",
       "      <td>2022-01-26</td>\n",
       "      <td>68</td>\n",
       "      <td>Medicare HMO</td>\n",
       "      <td>2022-01-26</td>\n",
       "      <td>2022-01-27</td>\n",
       "      <td>['U07.1', 'F17.210', 'R23.0', 'I46.9', 'R06.02']</td>\n",
       "      <td>2</td>\n",
       "      <td>0</td>\n",
       "      <td>0</td>\n",
       "      <td>0</td>\n",
       "      <td>0</td>\n",
       "      <td>1</td>\n",
       "      <td>1</td>\n",
       "      <td>0</td>\n",
       "      <td>NaN</td>\n",
       "    </tr>\n",
       "    <tr>\n",
       "      <th>3</th>\n",
       "      <td>18608899</td>\n",
       "      <td>117580339</td>\n",
       "      <td>2021-02-09</td>\n",
       "      <td>79</td>\n",
       "      <td>MEDICARE</td>\n",
       "      <td>2021-02-09</td>\n",
       "      <td>2021-02-11</td>\n",
       "      <td>['E03.9', 'N17.9', 'G93.5', 'Z66', 'F17.210', ...</td>\n",
       "      <td>3</td>\n",
       "      <td>0</td>\n",
       "      <td>0</td>\n",
       "      <td>0</td>\n",
       "      <td>0</td>\n",
       "      <td>1</td>\n",
       "      <td>1</td>\n",
       "      <td>0</td>\n",
       "      <td>NaN</td>\n",
       "    </tr>\n",
       "    <tr>\n",
       "      <th>4</th>\n",
       "      <td>18721803</td>\n",
       "      <td>163588768</td>\n",
       "      <td>2021-01-04</td>\n",
       "      <td>75</td>\n",
       "      <td>Managed Care (Private)</td>\n",
       "      <td>2021-01-04</td>\n",
       "      <td>2021-02-18</td>\n",
       "      <td>['G93.89', 'E86.0', 'G93.41', 'R00.0', 'N17.9'...</td>\n",
       "      <td>46</td>\n",
       "      <td>1</td>\n",
       "      <td>0</td>\n",
       "      <td>0</td>\n",
       "      <td>0</td>\n",
       "      <td>0</td>\n",
       "      <td>1</td>\n",
       "      <td>0</td>\n",
       "      <td>NaN</td>\n",
       "    </tr>\n",
       "  </tbody>\n",
       "</table>\n",
       "</div>"
      ],
      "text/plain": [
       "   patient_num  encounter_num dx_date_shifted  age_at_visit_years  \\\n",
       "0     17852216      115824905      2020-10-23                  68   \n",
       "1     18344206      242777887      2021-09-27                  77   \n",
       "2     18431357      177586588      2022-01-26                  68   \n",
       "3     18608899      117580339      2021-02-09                  79   \n",
       "4     18721803      163588768      2021-01-04                  75   \n",
       "\n",
       "  payor_type_primary_name admit_date_shifted discharge_date_shifted  \\\n",
       "0                MEDICARE         2020-10-23             2020-11-02   \n",
       "1            Medicare HMO         2021-09-27             2021-09-27   \n",
       "2            Medicare HMO         2022-01-26             2022-01-27   \n",
       "3                MEDICARE         2021-02-09             2021-02-11   \n",
       "4  Managed Care (Private)         2021-01-04             2021-02-18   \n",
       "\n",
       "                                        dx_code_list  total_length_of_stay  \\\n",
       "0  ['G62.9', 'D69.6', 'Z66', 'J12.89', 'E88.09', ...                    11   \n",
       "1  ['Z87.891', 'R41.82', 'D64.9', 'I69.351', 'I10...                     1   \n",
       "2   ['U07.1', 'F17.210', 'R23.0', 'I46.9', 'R06.02']                     2   \n",
       "3  ['E03.9', 'N17.9', 'G93.5', 'Z66', 'F17.210', ...                     3   \n",
       "4  ['G93.89', 'E86.0', 'G93.41', 'R00.0', 'N17.9'...                    46   \n",
       "\n",
       "   Alcohol Use Disorder  Cannabis Use Disorder  Cocaine Use Disorder  \\\n",
       "0                     1                      0                     0   \n",
       "1                     1                      0                     0   \n",
       "2                     0                      0                     0   \n",
       "3                     0                      0                     0   \n",
       "4                     1                      0                     0   \n",
       "\n",
       "   Opioid Use Disorder  Tobacco Use Disorder  Death  Full Vaccination  \\\n",
       "0                    0                     0      1                 0   \n",
       "1                    0                     0      1                 0   \n",
       "2                    0                     1      1                 0   \n",
       "3                    0                     1      1                 0   \n",
       "4                    0                     0      1                 0   \n",
       "\n",
       "   Readmission  \n",
       "0          NaN  \n",
       "1          NaN  \n",
       "2          NaN  \n",
       "3          NaN  \n",
       "4          NaN  "
      ]
     },
     "execution_count": 104,
     "metadata": {},
     "output_type": "execute_result"
    }
   ],
   "source": [
    "all_patients = pd.concat([dead_patients, alive_patients], axis=0)\n",
    "all_patients.head()"
   ]
  },
  {
   "cell_type": "code",
   "execution_count": 105,
   "metadata": {
    "ExecuteTime": {
     "end_time": "2023-10-28T17:42:25.063173Z",
     "start_time": "2023-10-28T17:42:24.665811Z"
    }
   },
   "outputs": [],
   "source": [
    "patient_id_df = all_patients[['patient_num', 'encounter_num']]\n",
    "patient_info_df = all_patients[['patient_num', 'encounter_num', 'admit_date_shifted', 'discharge_date_shifted']]"
   ]
  },
  {
   "cell_type": "markdown",
   "metadata": {},
   "source": [
    "# Demographics"
   ]
  },
  {
   "cell_type": "code",
   "execution_count": 106,
   "metadata": {
    "ExecuteTime": {
     "end_time": "2023-10-28T17:42:25.063532Z",
     "start_time": "2023-10-28T17:42:24.669227Z"
    }
   },
   "outputs": [],
   "source": [
    "demographics_path = os.path.join(COVID_MERGED_DATA_PATH, 'demographics.csv')\n",
    "demographics_copy = load_data(demographics_path)\n",
    "demo_df = demographics_copy.copy()"
   ]
  },
  {
   "cell_type": "code",
   "execution_count": 107,
   "metadata": {
    "ExecuteTime": {
     "end_time": "2023-10-28T17:42:25.063575Z",
     "start_time": "2023-10-28T17:42:24.723740Z"
    }
   },
   "outputs": [],
   "source": [
    "demo_df.drop_duplicates(subset='patient_num', keep='first', inplace=True)"
   ]
  },
  {
   "cell_type": "code",
   "execution_count": 108,
   "metadata": {
    "ExecuteTime": {
     "end_time": "2023-10-28T17:42:25.063614Z",
     "start_time": "2023-10-28T17:42:24.731817Z"
    }
   },
   "outputs": [],
   "source": [
    "demo_df = demo_df[demographics_columns]"
   ]
  },
  {
   "cell_type": "code",
   "execution_count": 109,
   "metadata": {
    "ExecuteTime": {
     "end_time": "2023-10-28T17:42:25.063656Z",
     "start_time": "2023-10-28T17:42:24.737109Z"
    }
   },
   "outputs": [],
   "source": [
    "demo_df_merged = pd.merge(demo_df, patient_id_df, on='patient_num', how='inner')"
   ]
  },
  {
   "cell_type": "code",
   "execution_count": 110,
   "metadata": {
    "ExecuteTime": {
     "end_time": "2023-10-28T17:42:25.063769Z",
     "start_time": "2023-10-28T17:42:24.744982Z"
    }
   },
   "outputs": [
    {
     "data": {
      "text/plain": [
       "patient_num          4492\n",
       "sex                     2\n",
       "marital_status          8\n",
       "employment_status      10\n",
       "race                    8\n",
       "ethnicity               5\n",
       "zip3                   53\n",
       "encounter_num        7306\n",
       "dtype: int64"
      ]
     },
     "execution_count": 110,
     "metadata": {},
     "output_type": "execute_result"
    }
   ],
   "source": [
    "demo_df_merged.nunique()"
   ]
  },
  {
   "cell_type": "markdown",
   "metadata": {},
   "source": [
    "# BMI"
   ]
  },
  {
   "cell_type": "code",
   "execution_count": 111,
   "metadata": {
    "ExecuteTime": {
     "end_time": "2023-10-28T17:42:25.080150Z",
     "start_time": "2023-10-28T17:42:24.749503Z"
    }
   },
   "outputs": [],
   "source": [
    "vitals_path = os.path.join(COVID_MERGED_DATA_PATH, 'vitals.csv')\n",
    "vitals_copy = load_data(vitals_path)"
   ]
  },
  {
   "cell_type": "code",
   "execution_count": 112,
   "metadata": {
    "ExecuteTime": {
     "end_time": "2023-10-28T17:42:25.142129Z",
     "start_time": "2023-10-28T17:42:24.922065Z"
    }
   },
   "outputs": [],
   "source": [
    "vitals_sort = vitals_copy.sort_values(by=['patient_num', 'bmi'], ascending=True, inplace=False)"
   ]
  },
  {
   "cell_type": "code",
   "execution_count": 113,
   "metadata": {
    "ExecuteTime": {
     "end_time": "2023-10-28T17:42:25.142403Z",
     "start_time": "2023-10-28T17:42:25.107131Z"
    }
   },
   "outputs": [],
   "source": [
    "# Calculate mean BMI for each patient \n",
    "bmi_means = vitals_sort.groupby('patient_num')['bmi'].mean().round(2)"
   ]
  },
  {
   "cell_type": "code",
   "execution_count": 114,
   "metadata": {
    "ExecuteTime": {
     "end_time": "2023-10-28T17:42:25.227067Z",
     "start_time": "2023-10-28T17:42:25.130043Z"
    }
   },
   "outputs": [],
   "source": [
    "bmi_df_merge = patient_id_df.merge(vitals_sort, on=['patient_num', 'encounter_num'], how='left')"
   ]
  },
  {
   "cell_type": "code",
   "execution_count": 115,
   "metadata": {
    "ExecuteTime": {
     "end_time": "2023-10-28T17:42:25.231277Z",
     "start_time": "2023-10-28T17:42:25.227763Z"
    }
   },
   "outputs": [],
   "source": [
    "# Fill NA values with patient mean\n",
    "bmi_df_merge['bmi'] = bmi_df_merge['bmi'].fillna(bmi_df_merge['patient_num'].map(bmi_means))\n",
    "bmi_df_merge['bmi'] = bmi_df_merge['bmi'].fillna(bmi_df_merge['bmi'].mean().round(2))"
   ]
  },
  {
   "cell_type": "markdown",
   "metadata": {},
   "source": [
    "# Lab"
   ]
  },
  {
   "cell_type": "code",
   "execution_count": 116,
   "metadata": {
    "ExecuteTime": {
     "end_time": "2023-10-28T17:42:40.775249Z",
     "start_time": "2023-10-28T17:42:25.231580Z"
    }
   },
   "outputs": [
    {
     "data": {
      "text/plain": [
       "(27782275, 6)"
      ]
     },
     "execution_count": 116,
     "metadata": {},
     "output_type": "execute_result"
    }
   ],
   "source": [
    "diagnostic_results_path = os.path.join(COVID_MERGED_DATA_PATH, 'diagnostic_results.csv')\n",
    "diagnostic_results_copy = load_data(diagnostic_results_path)\n",
    "diagnostic_results_copy.shape"
   ]
  },
  {
   "cell_type": "code",
   "execution_count": 117,
   "metadata": {
    "ExecuteTime": {
     "end_time": "2023-10-28T17:42:45.080629Z",
     "start_time": "2023-10-28T17:42:40.773748Z"
    }
   },
   "outputs": [],
   "source": [
    "diagnostic_results = diagnostic_results_copy.copy()\n",
    "# drop PERFORMED BY in component_name\n",
    "diagnostic_results.drop(diagnostic_results.loc[diagnostic_results['component_name']=='PERFORMED BY'].index, inplace=True)\n",
    "# Drop rows with missing values in result_num\n",
    "diagnostic_results.dropna(subset=['result_num'], inplace=True)"
   ]
  },
  {
   "cell_type": "code",
   "execution_count": 118,
   "metadata": {
    "ExecuteTime": {
     "end_time": "2023-10-28T17:42:45.111926Z",
     "start_time": "2023-10-28T17:42:45.085299Z"
    }
   },
   "outputs": [
    {
     "data": {
      "text/html": [
       "<div>\n",
       "<style scoped>\n",
       "    .dataframe tbody tr th:only-of-type {\n",
       "        vertical-align: middle;\n",
       "    }\n",
       "\n",
       "    .dataframe tbody tr th {\n",
       "        vertical-align: top;\n",
       "    }\n",
       "\n",
       "    .dataframe thead th {\n",
       "        text-align: right;\n",
       "    }\n",
       "</style>\n",
       "<table border=\"1\" class=\"dataframe\">\n",
       "  <thead>\n",
       "    <tr style=\"text-align: right;\">\n",
       "      <th></th>\n",
       "      <th>patient_num</th>\n",
       "      <th>component_name</th>\n",
       "      <th>abnormal_ind</th>\n",
       "      <th>i2b2_date_shifted</th>\n",
       "      <th>result_num</th>\n",
       "      <th>result_modifier</th>\n",
       "    </tr>\n",
       "  </thead>\n",
       "  <tbody>\n",
       "    <tr>\n",
       "      <th>0</th>\n",
       "      <td>22271013</td>\n",
       "      <td>GLUCOSE POC</td>\n",
       "      <td>AH</td>\n",
       "      <td>2021-03-28 21:37:00</td>\n",
       "      <td>141.000</td>\n",
       "      <td>EQ</td>\n",
       "    </tr>\n",
       "    <tr>\n",
       "      <th>1</th>\n",
       "      <td>19504545</td>\n",
       "      <td>MEAN CORPUSCULAR HGB CONCENTRN</td>\n",
       "      <td>NI</td>\n",
       "      <td>2017-07-09 13:28:00</td>\n",
       "      <td>33.100</td>\n",
       "      <td>EQ</td>\n",
       "    </tr>\n",
       "    <tr>\n",
       "      <th>2</th>\n",
       "      <td>23120699</td>\n",
       "      <td>BASOPHIL PERCENTAGE</td>\n",
       "      <td>NI</td>\n",
       "      <td>2021-01-05 07:17:00</td>\n",
       "      <td>0.000</td>\n",
       "      <td>EQ</td>\n",
       "    </tr>\n",
       "    <tr>\n",
       "      <th>3</th>\n",
       "      <td>30905545</td>\n",
       "      <td>SPECIFIC GRAVITY URINE</td>\n",
       "      <td>NI</td>\n",
       "      <td>2018-01-27 08:57:00</td>\n",
       "      <td>1.005</td>\n",
       "      <td>EQ</td>\n",
       "    </tr>\n",
       "    <tr>\n",
       "      <th>4</th>\n",
       "      <td>23304348</td>\n",
       "      <td>AST/SGOT</td>\n",
       "      <td>AH</td>\n",
       "      <td>2018-02-17 04:08:00</td>\n",
       "      <td>38.000</td>\n",
       "      <td>EQ</td>\n",
       "    </tr>\n",
       "    <tr>\n",
       "      <th>...</th>\n",
       "      <td>...</td>\n",
       "      <td>...</td>\n",
       "      <td>...</td>\n",
       "      <td>...</td>\n",
       "      <td>...</td>\n",
       "      <td>...</td>\n",
       "    </tr>\n",
       "    <tr>\n",
       "      <th>27782270</th>\n",
       "      <td>28211823</td>\n",
       "      <td>MONOCYTE ABSOLUTE</td>\n",
       "      <td>NI</td>\n",
       "      <td>2021-07-25 12:26:00</td>\n",
       "      <td>0.590</td>\n",
       "      <td>EQ</td>\n",
       "    </tr>\n",
       "    <tr>\n",
       "      <th>27782271</th>\n",
       "      <td>24560537</td>\n",
       "      <td>BKR CD AUTO MONO#</td>\n",
       "      <td>NI</td>\n",
       "      <td>2021-12-31 16:52:00</td>\n",
       "      <td>0.600</td>\n",
       "      <td>EQ</td>\n",
       "    </tr>\n",
       "    <tr>\n",
       "      <th>27782272</th>\n",
       "      <td>21941268</td>\n",
       "      <td>BKR ALANINE AMINOTRANSFERASE</td>\n",
       "      <td>NI</td>\n",
       "      <td>2022-02-26 10:15:00</td>\n",
       "      <td>7.000</td>\n",
       "      <td>EQ</td>\n",
       "    </tr>\n",
       "    <tr>\n",
       "      <th>27782273</th>\n",
       "      <td>17942470</td>\n",
       "      <td>LYMPH PERCENT</td>\n",
       "      <td>AL</td>\n",
       "      <td>2021-07-24 04:37:00</td>\n",
       "      <td>6.100</td>\n",
       "      <td>EQ</td>\n",
       "    </tr>\n",
       "    <tr>\n",
       "      <th>27782274</th>\n",
       "      <td>20709264</td>\n",
       "      <td>EKG QTC CALCULATION (BAZETT)</td>\n",
       "      <td>NI</td>\n",
       "      <td>2021-09-04 10:24:00</td>\n",
       "      <td>383.000</td>\n",
       "      <td>EQ</td>\n",
       "    </tr>\n",
       "  </tbody>\n",
       "</table>\n",
       "<p>23093509 rows × 6 columns</p>\n",
       "</div>"
      ],
      "text/plain": [
       "          patient_num                  component_name abnormal_ind  \\\n",
       "0            22271013                     GLUCOSE POC           AH   \n",
       "1            19504545  MEAN CORPUSCULAR HGB CONCENTRN           NI   \n",
       "2            23120699             BASOPHIL PERCENTAGE           NI   \n",
       "3            30905545          SPECIFIC GRAVITY URINE           NI   \n",
       "4            23304348                        AST/SGOT           AH   \n",
       "...               ...                             ...          ...   \n",
       "27782270     28211823               MONOCYTE ABSOLUTE           NI   \n",
       "27782271     24560537               BKR CD AUTO MONO#           NI   \n",
       "27782272     21941268    BKR ALANINE AMINOTRANSFERASE           NI   \n",
       "27782273     17942470                   LYMPH PERCENT           AL   \n",
       "27782274     20709264    EKG QTC CALCULATION (BAZETT)           NI   \n",
       "\n",
       "            i2b2_date_shifted  result_num result_modifier  \n",
       "0         2021-03-28 21:37:00     141.000              EQ  \n",
       "1         2017-07-09 13:28:00      33.100              EQ  \n",
       "2         2021-01-05 07:17:00       0.000              EQ  \n",
       "3         2018-01-27 08:57:00       1.005              EQ  \n",
       "4         2018-02-17 04:08:00      38.000              EQ  \n",
       "...                       ...         ...             ...  \n",
       "27782270  2021-07-25 12:26:00       0.590              EQ  \n",
       "27782271  2021-12-31 16:52:00       0.600              EQ  \n",
       "27782272  2022-02-26 10:15:00       7.000              EQ  \n",
       "27782273  2021-07-24 04:37:00       6.100              EQ  \n",
       "27782274  2021-09-04 10:24:00     383.000              EQ  \n",
       "\n",
       "[23093509 rows x 6 columns]"
      ]
     },
     "execution_count": 118,
     "metadata": {},
     "output_type": "execute_result"
    }
   ],
   "source": [
    "diagnostic_results"
   ]
  },
  {
   "cell_type": "code",
   "execution_count": 119,
   "metadata": {
    "ExecuteTime": {
     "end_time": "2023-10-28T17:42:45.112187Z",
     "start_time": "2023-10-28T17:42:45.089329Z"
    }
   },
   "outputs": [
    {
     "data": {
      "text/plain": [
       "patient_num               4492\n",
       "encounter_num             7306\n",
       "admit_date_shifted         992\n",
       "discharge_date_shifted     993\n",
       "dtype: int64"
      ]
     },
     "execution_count": 119,
     "metadata": {},
     "output_type": "execute_result"
    }
   ],
   "source": [
    "patient_info_df.nunique()"
   ]
  },
  {
   "cell_type": "code",
   "execution_count": 120,
   "metadata": {
    "ExecuteTime": {
     "end_time": "2023-10-28T17:42:48.782213Z",
     "start_time": "2023-10-28T17:42:45.095484Z"
    }
   },
   "outputs": [
    {
     "data": {
      "text/plain": [
       "patient_num                 4492\n",
       "encounter_num               7306\n",
       "admit_date_shifted           992\n",
       "discharge_date_shifted       993\n",
       "component_name              3042\n",
       "abnormal_ind                   9\n",
       "i2b2_date_shifted         272136\n",
       "result_num                 14334\n",
       "result_modifier                5\n",
       "dtype: int64"
      ]
     },
     "execution_count": 120,
     "metadata": {},
     "output_type": "execute_result"
    }
   ],
   "source": [
    "diag_results_merge = patient_info_df.merge(diagnostic_results, how='left', on=['patient_num'])\n",
    "diag_results_merge.nunique()"
   ]
  },
  {
   "cell_type": "code",
   "execution_count": 121,
   "metadata": {
    "ExecuteTime": {
     "end_time": "2023-10-28T17:42:50.744543Z",
     "start_time": "2023-10-28T17:42:48.926103Z"
    }
   },
   "outputs": [
    {
     "data": {
      "text/plain": [
       "3850"
      ]
     },
     "execution_count": 121,
     "metadata": {},
     "output_type": "execute_result"
    }
   ],
   "source": [
    "# Select patients with valid dates \n",
    "diag_results_merge['admit_date_shifted'] = pd.to_datetime(diag_results_merge['admit_date_shifted'],format='%Y-%m-%d')\n",
    "diag_results_merge['discharge_date_shifted'] = pd.to_datetime(diag_results_merge['discharge_date_shifted'],format='%Y-%m-%d')\n",
    "diag_results_merge['i2b2_date_shifted'] = pd.to_datetime(diag_results_merge['i2b2_date_shifted'],format='%Y-%m-%d %H:%M:%S')\n",
    "diag_results_merge = diag_results_merge[(diag_results_merge['admit_date_shifted'] <= diag_results_merge['i2b2_date_shifted']) &  \n",
    "                                        (diag_results_merge['i2b2_date_shifted'] <= diag_results_merge['admit_date_shifted'] + timedelta(days=14))]\n",
    "diag_results_merge['patient_num'].nunique()"
   ]
  },
  {
   "cell_type": "code",
   "execution_count": 122,
   "metadata": {
    "ExecuteTime": {
     "end_time": "2023-10-28T17:42:50.889984Z",
     "start_time": "2023-10-28T17:42:50.743534Z"
    }
   },
   "outputs": [],
   "source": [
    "\n",
    "diag_results_dedup = diag_results_merge.sort_values(by=['patient_num','admit_date_shifted','i2b2_date_shifted'\n",
    "                                                        ]).drop_duplicates(subset=['patient_num','encounter_num','component_name'\n",
    "                                                                                    ], keep='first')"
   ]
  },
  {
   "cell_type": "code",
   "execution_count": 123,
   "metadata": {
    "ExecuteTime": {
     "end_time": "2023-10-28T17:42:51.189668Z",
     "start_time": "2023-10-28T17:42:50.872519Z"
    }
   },
   "outputs": [
    {
     "data": {
      "text/plain": [
       "(6027, 1814)"
      ]
     },
     "execution_count": 123,
     "metadata": {},
     "output_type": "execute_result"
    }
   ],
   "source": [
    "# Create a pivot table based on component_name                                 \n",
    "diag_results_subset = diag_results_dedup[['patient_num','encounter_num','component_name','result_num']]\n",
    "df_pivot = diag_results_subset.pivot_table(index=['patient_num','encounter_num'],\n",
    "                    columns='component_name', aggfunc='first').reset_index()\n",
    "lab = pd.DataFrame(df_pivot.to_records())\n",
    "lab.columns = [hdr.replace(\", ''\",\"\").replace(\"('\", \"\").replace(\"')\", \"\").replace(\"result_num', '\",\"\") \\\n",
    "                    for hdr in lab.columns]\n",
    "lab.shape"
   ]
  },
  {
   "cell_type": "code",
   "execution_count": 124,
   "metadata": {
    "ExecuteTime": {
     "end_time": "2023-10-28T17:42:51.270137Z",
     "start_time": "2023-10-28T17:42:51.188637Z"
    }
   },
   "outputs": [
    {
     "name": "stdout",
     "output_type": "stream",
     "text": [
      "Number of features with less than 10 values: 1060\n"
     ]
    }
   ],
   "source": [
    "#Drop features with small number of values\n",
    "lst = drop_features(lab, 10)\n",
    "lab.drop(columns=lst, inplace=True)\n",
    "lab.drop(['index'], axis=1, inplace=True)\n",
    "lab.fillna(0, inplace=True)  "
   ]
  },
  {
   "cell_type": "code",
   "execution_count": 125,
   "metadata": {
    "ExecuteTime": {
     "end_time": "2023-10-28T17:42:51.275056Z",
     "start_time": "2023-10-28T17:42:51.268972Z"
    }
   },
   "outputs": [
    {
     "data": {
      "text/plain": [
       "(6027, 753)"
      ]
     },
     "execution_count": 125,
     "metadata": {},
     "output_type": "execute_result"
    }
   ],
   "source": [
    "lab.shape"
   ]
  },
  {
   "cell_type": "code",
   "execution_count": 126,
   "metadata": {
    "ExecuteTime": {
     "end_time": "2023-10-28T17:42:51.275170Z",
     "start_time": "2023-10-28T17:42:51.272467Z"
    }
   },
   "outputs": [],
   "source": [
    "lab.columns = ['lab_'+ str(col) for col in lab.columns]"
   ]
  },
  {
   "cell_type": "code",
   "execution_count": 127,
   "metadata": {
    "ExecuteTime": {
     "end_time": "2023-10-28T17:42:51.296165Z",
     "start_time": "2023-10-28T17:42:51.275321Z"
    }
   },
   "outputs": [
    {
     "data": {
      "text/html": [
       "<div>\n",
       "<style scoped>\n",
       "    .dataframe tbody tr th:only-of-type {\n",
       "        vertical-align: middle;\n",
       "    }\n",
       "\n",
       "    .dataframe tbody tr th {\n",
       "        vertical-align: top;\n",
       "    }\n",
       "\n",
       "    .dataframe thead th {\n",
       "        text-align: right;\n",
       "    }\n",
       "</style>\n",
       "<table border=\"1\" class=\"dataframe\">\n",
       "  <thead>\n",
       "    <tr style=\"text-align: right;\">\n",
       "      <th></th>\n",
       "      <th>lab_patient_num</th>\n",
       "      <th>lab_encounter_num</th>\n",
       "      <th>lab_% A1</th>\n",
       "      <th>lab_% F</th>\n",
       "      <th>lab_% IRON SATURATION</th>\n",
       "      <th>lab_% METHEMOGLOBIN</th>\n",
       "      <th>lab_% OXYHEMOGLOBIN</th>\n",
       "      <th>lab_% S</th>\n",
       "      <th>lab_25-75-75% PRE</th>\n",
       "      <th>lab_ABSOLUTE BASOPHILS</th>\n",
       "      <th>...</th>\n",
       "      <th>lab_VITAMIN E (BETA-GAMMA TOCOPHEROL)</th>\n",
       "      <th>lab_VTG PRE</th>\n",
       "      <th>lab_WHITE BLOOD CELL COUNT</th>\n",
       "      <th>lab_WHITE BLOOD CELLS URINE</th>\n",
       "      <th>lab_WHOLE BLOOD CHLORIDE</th>\n",
       "      <th>lab_WHOLE BLOOD CREATININE</th>\n",
       "      <th>lab_WHOLE BLOOD GLUCOSE</th>\n",
       "      <th>lab_WHOLE BLOOD POTASSIUM</th>\n",
       "      <th>lab_WHOLE BLOOD SODIUM</th>\n",
       "      <th>lab_ZINC</th>\n",
       "    </tr>\n",
       "  </thead>\n",
       "  <tbody>\n",
       "    <tr>\n",
       "      <th>0</th>\n",
       "      <td>16777685</td>\n",
       "      <td>144353253</td>\n",
       "      <td>0.0</td>\n",
       "      <td>0.0</td>\n",
       "      <td>0.0</td>\n",
       "      <td>0.0</td>\n",
       "      <td>0.0</td>\n",
       "      <td>0.0</td>\n",
       "      <td>0.0</td>\n",
       "      <td>0.0</td>\n",
       "      <td>...</td>\n",
       "      <td>0.0</td>\n",
       "      <td>0.0</td>\n",
       "      <td>10.0</td>\n",
       "      <td>0.0</td>\n",
       "      <td>0.0</td>\n",
       "      <td>0.0</td>\n",
       "      <td>0.0</td>\n",
       "      <td>0.0</td>\n",
       "      <td>0.0</td>\n",
       "      <td>0.0</td>\n",
       "    </tr>\n",
       "    <tr>\n",
       "      <th>1</th>\n",
       "      <td>16782332</td>\n",
       "      <td>209545972</td>\n",
       "      <td>0.0</td>\n",
       "      <td>0.0</td>\n",
       "      <td>0.0</td>\n",
       "      <td>0.0</td>\n",
       "      <td>0.0</td>\n",
       "      <td>0.0</td>\n",
       "      <td>0.0</td>\n",
       "      <td>0.0</td>\n",
       "      <td>...</td>\n",
       "      <td>0.0</td>\n",
       "      <td>0.0</td>\n",
       "      <td>0.0</td>\n",
       "      <td>0.0</td>\n",
       "      <td>0.0</td>\n",
       "      <td>0.0</td>\n",
       "      <td>0.0</td>\n",
       "      <td>0.0</td>\n",
       "      <td>0.0</td>\n",
       "      <td>0.0</td>\n",
       "    </tr>\n",
       "    <tr>\n",
       "      <th>2</th>\n",
       "      <td>16784128</td>\n",
       "      <td>125498709</td>\n",
       "      <td>0.0</td>\n",
       "      <td>0.0</td>\n",
       "      <td>0.0</td>\n",
       "      <td>0.0</td>\n",
       "      <td>0.0</td>\n",
       "      <td>0.0</td>\n",
       "      <td>0.0</td>\n",
       "      <td>0.0</td>\n",
       "      <td>...</td>\n",
       "      <td>0.0</td>\n",
       "      <td>0.0</td>\n",
       "      <td>0.0</td>\n",
       "      <td>0.0</td>\n",
       "      <td>0.0</td>\n",
       "      <td>0.0</td>\n",
       "      <td>0.0</td>\n",
       "      <td>0.0</td>\n",
       "      <td>0.0</td>\n",
       "      <td>0.0</td>\n",
       "    </tr>\n",
       "    <tr>\n",
       "      <th>3</th>\n",
       "      <td>16786590</td>\n",
       "      <td>103558812</td>\n",
       "      <td>0.0</td>\n",
       "      <td>0.0</td>\n",
       "      <td>0.0</td>\n",
       "      <td>0.0</td>\n",
       "      <td>0.0</td>\n",
       "      <td>0.0</td>\n",
       "      <td>0.0</td>\n",
       "      <td>0.0</td>\n",
       "      <td>...</td>\n",
       "      <td>0.0</td>\n",
       "      <td>0.0</td>\n",
       "      <td>12.2</td>\n",
       "      <td>0.0</td>\n",
       "      <td>0.0</td>\n",
       "      <td>0.0</td>\n",
       "      <td>0.0</td>\n",
       "      <td>0.0</td>\n",
       "      <td>0.0</td>\n",
       "      <td>0.0</td>\n",
       "    </tr>\n",
       "    <tr>\n",
       "      <th>4</th>\n",
       "      <td>16786590</td>\n",
       "      <td>136360333</td>\n",
       "      <td>0.0</td>\n",
       "      <td>0.0</td>\n",
       "      <td>0.0</td>\n",
       "      <td>0.0</td>\n",
       "      <td>0.0</td>\n",
       "      <td>0.0</td>\n",
       "      <td>0.0</td>\n",
       "      <td>0.0</td>\n",
       "      <td>...</td>\n",
       "      <td>0.0</td>\n",
       "      <td>0.0</td>\n",
       "      <td>0.0</td>\n",
       "      <td>0.0</td>\n",
       "      <td>0.0</td>\n",
       "      <td>0.0</td>\n",
       "      <td>0.0</td>\n",
       "      <td>0.0</td>\n",
       "      <td>0.0</td>\n",
       "      <td>0.0</td>\n",
       "    </tr>\n",
       "    <tr>\n",
       "      <th>...</th>\n",
       "      <td>...</td>\n",
       "      <td>...</td>\n",
       "      <td>...</td>\n",
       "      <td>...</td>\n",
       "      <td>...</td>\n",
       "      <td>...</td>\n",
       "      <td>...</td>\n",
       "      <td>...</td>\n",
       "      <td>...</td>\n",
       "      <td>...</td>\n",
       "      <td>...</td>\n",
       "      <td>...</td>\n",
       "      <td>...</td>\n",
       "      <td>...</td>\n",
       "      <td>...</td>\n",
       "      <td>...</td>\n",
       "      <td>...</td>\n",
       "      <td>...</td>\n",
       "      <td>...</td>\n",
       "      <td>...</td>\n",
       "      <td>...</td>\n",
       "    </tr>\n",
       "    <tr>\n",
       "      <th>6022</th>\n",
       "      <td>65073452</td>\n",
       "      <td>175909283</td>\n",
       "      <td>0.0</td>\n",
       "      <td>0.0</td>\n",
       "      <td>0.0</td>\n",
       "      <td>0.0</td>\n",
       "      <td>0.0</td>\n",
       "      <td>0.0</td>\n",
       "      <td>0.0</td>\n",
       "      <td>0.0</td>\n",
       "      <td>...</td>\n",
       "      <td>0.0</td>\n",
       "      <td>0.0</td>\n",
       "      <td>0.0</td>\n",
       "      <td>0.0</td>\n",
       "      <td>0.0</td>\n",
       "      <td>0.0</td>\n",
       "      <td>0.0</td>\n",
       "      <td>0.0</td>\n",
       "      <td>0.0</td>\n",
       "      <td>0.0</td>\n",
       "    </tr>\n",
       "    <tr>\n",
       "      <th>6023</th>\n",
       "      <td>66672889</td>\n",
       "      <td>135967573</td>\n",
       "      <td>0.0</td>\n",
       "      <td>0.0</td>\n",
       "      <td>0.0</td>\n",
       "      <td>0.0</td>\n",
       "      <td>0.0</td>\n",
       "      <td>0.0</td>\n",
       "      <td>0.0</td>\n",
       "      <td>0.0</td>\n",
       "      <td>...</td>\n",
       "      <td>0.0</td>\n",
       "      <td>0.0</td>\n",
       "      <td>5.7</td>\n",
       "      <td>0.0</td>\n",
       "      <td>0.0</td>\n",
       "      <td>0.0</td>\n",
       "      <td>0.0</td>\n",
       "      <td>0.0</td>\n",
       "      <td>0.0</td>\n",
       "      <td>0.0</td>\n",
       "    </tr>\n",
       "    <tr>\n",
       "      <th>6024</th>\n",
       "      <td>66672889</td>\n",
       "      <td>135969484</td>\n",
       "      <td>0.0</td>\n",
       "      <td>0.0</td>\n",
       "      <td>0.0</td>\n",
       "      <td>0.0</td>\n",
       "      <td>0.0</td>\n",
       "      <td>0.0</td>\n",
       "      <td>0.0</td>\n",
       "      <td>0.0</td>\n",
       "      <td>...</td>\n",
       "      <td>0.0</td>\n",
       "      <td>0.0</td>\n",
       "      <td>5.7</td>\n",
       "      <td>0.0</td>\n",
       "      <td>0.0</td>\n",
       "      <td>0.0</td>\n",
       "      <td>0.0</td>\n",
       "      <td>0.0</td>\n",
       "      <td>0.0</td>\n",
       "      <td>0.0</td>\n",
       "    </tr>\n",
       "    <tr>\n",
       "      <th>6025</th>\n",
       "      <td>66672889</td>\n",
       "      <td>162891163</td>\n",
       "      <td>0.0</td>\n",
       "      <td>0.0</td>\n",
       "      <td>0.0</td>\n",
       "      <td>0.0</td>\n",
       "      <td>0.0</td>\n",
       "      <td>0.0</td>\n",
       "      <td>0.0</td>\n",
       "      <td>0.0</td>\n",
       "      <td>...</td>\n",
       "      <td>0.0</td>\n",
       "      <td>0.0</td>\n",
       "      <td>5.8</td>\n",
       "      <td>0.0</td>\n",
       "      <td>0.0</td>\n",
       "      <td>0.0</td>\n",
       "      <td>0.0</td>\n",
       "      <td>0.0</td>\n",
       "      <td>0.0</td>\n",
       "      <td>0.0</td>\n",
       "    </tr>\n",
       "    <tr>\n",
       "      <th>6026</th>\n",
       "      <td>66672889</td>\n",
       "      <td>205453110</td>\n",
       "      <td>0.0</td>\n",
       "      <td>0.0</td>\n",
       "      <td>0.0</td>\n",
       "      <td>0.0</td>\n",
       "      <td>0.0</td>\n",
       "      <td>0.0</td>\n",
       "      <td>0.0</td>\n",
       "      <td>0.0</td>\n",
       "      <td>...</td>\n",
       "      <td>0.0</td>\n",
       "      <td>0.0</td>\n",
       "      <td>0.0</td>\n",
       "      <td>0.0</td>\n",
       "      <td>0.0</td>\n",
       "      <td>0.0</td>\n",
       "      <td>0.0</td>\n",
       "      <td>0.0</td>\n",
       "      <td>0.0</td>\n",
       "      <td>0.0</td>\n",
       "    </tr>\n",
       "  </tbody>\n",
       "</table>\n",
       "<p>6027 rows × 753 columns</p>\n",
       "</div>"
      ],
      "text/plain": [
       "      lab_patient_num  lab_encounter_num  lab_% A1  lab_% F  \\\n",
       "0            16777685          144353253       0.0      0.0   \n",
       "1            16782332          209545972       0.0      0.0   \n",
       "2            16784128          125498709       0.0      0.0   \n",
       "3            16786590          103558812       0.0      0.0   \n",
       "4            16786590          136360333       0.0      0.0   \n",
       "...               ...                ...       ...      ...   \n",
       "6022         65073452          175909283       0.0      0.0   \n",
       "6023         66672889          135967573       0.0      0.0   \n",
       "6024         66672889          135969484       0.0      0.0   \n",
       "6025         66672889          162891163       0.0      0.0   \n",
       "6026         66672889          205453110       0.0      0.0   \n",
       "\n",
       "      lab_% IRON SATURATION  lab_% METHEMOGLOBIN  lab_% OXYHEMOGLOBIN  \\\n",
       "0                       0.0                  0.0                  0.0   \n",
       "1                       0.0                  0.0                  0.0   \n",
       "2                       0.0                  0.0                  0.0   \n",
       "3                       0.0                  0.0                  0.0   \n",
       "4                       0.0                  0.0                  0.0   \n",
       "...                     ...                  ...                  ...   \n",
       "6022                    0.0                  0.0                  0.0   \n",
       "6023                    0.0                  0.0                  0.0   \n",
       "6024                    0.0                  0.0                  0.0   \n",
       "6025                    0.0                  0.0                  0.0   \n",
       "6026                    0.0                  0.0                  0.0   \n",
       "\n",
       "      lab_% S  lab_25-75-75% PRE  lab_ABSOLUTE BASOPHILS  ...  \\\n",
       "0         0.0                0.0                     0.0  ...   \n",
       "1         0.0                0.0                     0.0  ...   \n",
       "2         0.0                0.0                     0.0  ...   \n",
       "3         0.0                0.0                     0.0  ...   \n",
       "4         0.0                0.0                     0.0  ...   \n",
       "...       ...                ...                     ...  ...   \n",
       "6022      0.0                0.0                     0.0  ...   \n",
       "6023      0.0                0.0                     0.0  ...   \n",
       "6024      0.0                0.0                     0.0  ...   \n",
       "6025      0.0                0.0                     0.0  ...   \n",
       "6026      0.0                0.0                     0.0  ...   \n",
       "\n",
       "      lab_VITAMIN E (BETA-GAMMA TOCOPHEROL)  lab_VTG PRE  \\\n",
       "0                                       0.0          0.0   \n",
       "1                                       0.0          0.0   \n",
       "2                                       0.0          0.0   \n",
       "3                                       0.0          0.0   \n",
       "4                                       0.0          0.0   \n",
       "...                                     ...          ...   \n",
       "6022                                    0.0          0.0   \n",
       "6023                                    0.0          0.0   \n",
       "6024                                    0.0          0.0   \n",
       "6025                                    0.0          0.0   \n",
       "6026                                    0.0          0.0   \n",
       "\n",
       "      lab_WHITE BLOOD CELL COUNT  lab_WHITE BLOOD CELLS URINE  \\\n",
       "0                           10.0                          0.0   \n",
       "1                            0.0                          0.0   \n",
       "2                            0.0                          0.0   \n",
       "3                           12.2                          0.0   \n",
       "4                            0.0                          0.0   \n",
       "...                          ...                          ...   \n",
       "6022                         0.0                          0.0   \n",
       "6023                         5.7                          0.0   \n",
       "6024                         5.7                          0.0   \n",
       "6025                         5.8                          0.0   \n",
       "6026                         0.0                          0.0   \n",
       "\n",
       "      lab_WHOLE BLOOD CHLORIDE  lab_WHOLE BLOOD CREATININE  \\\n",
       "0                          0.0                         0.0   \n",
       "1                          0.0                         0.0   \n",
       "2                          0.0                         0.0   \n",
       "3                          0.0                         0.0   \n",
       "4                          0.0                         0.0   \n",
       "...                        ...                         ...   \n",
       "6022                       0.0                         0.0   \n",
       "6023                       0.0                         0.0   \n",
       "6024                       0.0                         0.0   \n",
       "6025                       0.0                         0.0   \n",
       "6026                       0.0                         0.0   \n",
       "\n",
       "      lab_WHOLE BLOOD GLUCOSE  lab_WHOLE BLOOD POTASSIUM  \\\n",
       "0                         0.0                        0.0   \n",
       "1                         0.0                        0.0   \n",
       "2                         0.0                        0.0   \n",
       "3                         0.0                        0.0   \n",
       "4                         0.0                        0.0   \n",
       "...                       ...                        ...   \n",
       "6022                      0.0                        0.0   \n",
       "6023                      0.0                        0.0   \n",
       "6024                      0.0                        0.0   \n",
       "6025                      0.0                        0.0   \n",
       "6026                      0.0                        0.0   \n",
       "\n",
       "      lab_WHOLE BLOOD SODIUM  lab_ZINC  \n",
       "0                        0.0       0.0  \n",
       "1                        0.0       0.0  \n",
       "2                        0.0       0.0  \n",
       "3                        0.0       0.0  \n",
       "4                        0.0       0.0  \n",
       "...                      ...       ...  \n",
       "6022                     0.0       0.0  \n",
       "6023                     0.0       0.0  \n",
       "6024                     0.0       0.0  \n",
       "6025                     0.0       0.0  \n",
       "6026                     0.0       0.0  \n",
       "\n",
       "[6027 rows x 753 columns]"
      ]
     },
     "execution_count": 127,
     "metadata": {},
     "output_type": "execute_result"
    }
   ],
   "source": [
    "lab"
   ]
  },
  {
   "cell_type": "markdown",
   "metadata": {},
   "source": [
    "# Merge All"
   ]
  },
  {
   "cell_type": "code",
   "execution_count": 128,
   "metadata": {
    "ExecuteTime": {
     "end_time": "2023-10-28T17:42:51.313841Z",
     "start_time": "2023-10-28T17:42:51.286898Z"
    }
   },
   "outputs": [],
   "source": [
    "df = all_patients.merge(demo_df_merged, on=['patient_num', 'encounter_num'], how='inner')"
   ]
  },
  {
   "cell_type": "code",
   "execution_count": 129,
   "metadata": {
    "ExecuteTime": {
     "end_time": "2023-10-28T17:42:51.336826Z",
     "start_time": "2023-10-28T17:42:51.293568Z"
    }
   },
   "outputs": [],
   "source": [
    "df = df.merge(bmi_df_merge, on=['patient_num', 'encounter_num'], how='inner')"
   ]
  },
  {
   "cell_type": "code",
   "execution_count": 130,
   "metadata": {
    "ExecuteTime": {
     "end_time": "2023-10-28T17:42:51.352911Z",
     "start_time": "2023-10-28T17:42:51.299296Z"
    }
   },
   "outputs": [],
   "source": [
    "final_data = df.merge(lab, left_on=['patient_num','encounter_num'],right_on=['lab_patient_num','lab_encounter_num'],how='inner')"
   ]
  },
  {
   "cell_type": "code",
   "execution_count": 131,
   "metadata": {
    "ExecuteTime": {
     "end_time": "2023-10-28T17:42:51.442808Z",
     "start_time": "2023-10-28T17:42:51.316380Z"
    }
   },
   "outputs": [],
   "source": [
    "final_data = get_longest_stay(final_data)"
   ]
  },
  {
   "cell_type": "code",
   "execution_count": 132,
   "metadata": {
    "ExecuteTime": {
     "end_time": "2023-10-28T17:42:51.993025Z",
     "start_time": "2023-10-28T17:42:51.349599Z"
    }
   },
   "outputs": [],
   "source": [
    "save_processed_data(final_data, 'final_data_all_columns', data_path=PROCESSED_ML_DATA_PATH)"
   ]
  },
  {
   "cell_type": "code",
   "execution_count": 133,
   "metadata": {
    "ExecuteTime": {
     "end_time": "2023-10-28T17:42:51.996395Z",
     "start_time": "2023-10-28T17:42:51.993204Z"
    }
   },
   "outputs": [],
   "source": [
    "neglect_cols = ['encounter_num',\n",
    "                'admit_date_shifted', 'discharge_date_shifted', 'dx_date_shifted',\n",
    "                'lab_patient_num', 'lab_encounter_num', \n",
    "                # 'language', \n",
    "                'patient_num',\n",
    "                'dx_code_list'\n",
    "]\n"
   ]
  },
  {
   "cell_type": "code",
   "execution_count": 134,
   "metadata": {
    "ExecuteTime": {
     "end_time": "2023-10-28T17:42:52.015450Z",
     "start_time": "2023-10-28T17:42:51.999406Z"
    }
   },
   "outputs": [],
   "source": [
    "final_data = final_data.drop(columns=neglect_cols, axis=1)\n",
    "final_data = final_data.rename(columns={'sex': 'Sex', 'age_at_visit_years': 'Age'})"
   ]
  },
  {
   "cell_type": "code",
   "execution_count": 135,
   "metadata": {
    "ExecuteTime": {
     "end_time": "2023-10-28T17:42:52.601700Z",
     "start_time": "2023-10-28T17:42:52.004644Z"
    }
   },
   "outputs": [],
   "source": [
    "save_processed_data(final_data, 'final_data', data_path=PROCESSED_ML_DATA_PATH)"
   ]
  },
  {
   "cell_type": "code",
   "execution_count": 137,
   "metadata": {
    "ExecuteTime": {
     "end_time": "2023-10-28T17:43:08.522525Z",
     "start_time": "2023-10-28T17:43:08.498303Z"
    }
   },
   "outputs": [],
   "source": [
    "d = final_data[final_data['Death'] == 1]"
   ]
  },
  {
   "cell_type": "code",
   "execution_count": 138,
   "metadata": {
    "ExecuteTime": {
     "end_time": "2023-10-28T17:43:09.977305Z",
     "start_time": "2023-10-28T17:43:09.954542Z"
    },
    "collapsed": false
   },
   "outputs": [
    {
     "data": {
      "text/plain": [
       "(57, 769)"
      ]
     },
     "execution_count": 138,
     "metadata": {},
     "output_type": "execute_result"
    }
   ],
   "source": [
    "d.shape"
   ]
  },
  {
   "cell_type": "code",
   "execution_count": null,
   "metadata": {
    "ExecuteTime": {
     "start_time": "2023-10-28T17:42:52.627517Z"
    },
    "collapsed": false
   },
   "outputs": [],
   "source": []
  }
 ],
 "metadata": {
  "kernelspec": {
   "display_name": "ml",
   "language": "python",
   "name": "python3"
  },
  "language_info": {
   "codemirror_mode": {
    "name": "ipython",
    "version": 3
   },
   "file_extension": ".py",
   "mimetype": "text/x-python",
   "name": "python",
   "nbconvert_exporter": "python",
   "pygments_lexer": "ipython3",
   "version": "3.1.undefined"
  },
  "orig_nbformat": 4
 },
 "nbformat": 4,
 "nbformat_minor": 2
}
