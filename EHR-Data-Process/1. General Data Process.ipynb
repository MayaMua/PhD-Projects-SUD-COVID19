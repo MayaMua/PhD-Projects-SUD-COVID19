{
 "cells": [
  {
   "cell_type": "code",
   "execution_count": 2,
   "metadata": {
    "ExecuteTime": {
     "end_time": "2023-10-27T03:59:01.799433Z",
     "start_time": "2023-10-27T03:59:01.642610Z"
    }
   },
   "outputs": [],
   "source": [
    "from datetime import datetime\n",
    "import ast\n",
    "\n",
    "from utils import *\n",
    "from config import *\n",
    "from processing_utils import *\n",
    "import logging"
   ]
  },
  {
   "attachments": {},
   "cell_type": "markdown",
   "metadata": {},
   "source": [
    "# Workflow\n",
    "\n",
    "1. Merge diagnosis and encounter tables\n",
    "2. Create lists for dx_codes\n",
    "3. Get death information\n",
    "4. Re-calculate hospitalization days admitted patients\n",
    "5. Get immunization information\n",
    "6. Filter patients with immunization"
   ]
  },
  {
   "attachments": {},
   "cell_type": "markdown",
   "metadata": {},
   "source": [
    "# Filter admitted patients using diagnosis and encounter tables"
   ]
  },
  {
   "cell_type": "code",
   "execution_count": null,
   "metadata": {},
   "outputs": [],
   "source": [
    "# "
   ]
  },
  {
   "cell_type": "code",
   "execution_count": 2,
   "metadata": {
    "ExecuteTime": {
     "end_time": "2023-10-27T03:59:14.544319Z",
     "start_time": "2023-10-27T03:59:01.800426Z"
    }
   },
   "outputs": [],
   "source": [
    "diagnosis_path = os.path.join(COVID_MERGED_DATA_PATH, 'diagnosis.csv')\n",
    "diagnosis_copy = load_data(diagnosis_path)"
   ]
  },
  {
   "cell_type": "code",
   "execution_count": 3,
   "metadata": {
    "ExecuteTime": {
     "end_time": "2023-10-27T03:59:15.446997Z",
     "start_time": "2023-10-27T03:59:14.545383Z"
    }
   },
   "outputs": [
    {
     "name": "stdout",
     "output_type": "stream",
     "text": [
      "There are 47978 unique patients in the COVID-19 data set (2020-2023).\n"
     ]
    }
   ],
   "source": [
    "diagnosis = diagnosis_copy.copy()\n",
    "diagnosis = diagnosis[diagnosis['enc_type'].isin(admission_enc_type_list)]\n",
    "diagnosis.drop(columns=['enc_type'], inplace=True)\n",
    "unique_patients = diagnosis['patient_num'].unique()\n",
    "# This is also including the patients who have no diagnosis code of covid\n",
    "print('There are {} unique patients in the COVID-19 data set (2020-2023).'.format(len(unique_patients)))"
   ]
  },
  {
   "cell_type": "code",
   "execution_count": 4,
   "metadata": {
    "ExecuteTime": {
     "end_time": "2023-10-27T03:59:18.666578Z",
     "start_time": "2023-10-27T03:59:15.447567Z"
    }
   },
   "outputs": [],
   "source": [
    "encounters_path = os.path.join(COVID_MERGED_DATA_PATH, 'encounters.csv')\n",
    "encounters_copy = load_data(encounters_path)"
   ]
  },
  {
   "cell_type": "code",
   "execution_count": 5,
   "metadata": {
    "ExecuteTime": {
     "end_time": "2023-10-27T03:59:19.010843Z",
     "start_time": "2023-10-27T03:59:18.667026Z"
    }
   },
   "outputs": [
    {
     "data": {
      "text/plain": [
       "(191036, 8)"
      ]
     },
     "execution_count": 5,
     "metadata": {},
     "output_type": "execute_result"
    }
   ],
   "source": [
    "encounters = encounters_copy.copy()\n",
    "l=['IP','ED','UN','OS']\n",
    "encounters = encounters[encounters['enc_type'].isin(l)]\n",
    "encounters.drop(columns=['enc_type'], inplace=True)\n",
    "encounters.shape"
   ]
  },
  {
   "cell_type": "code",
   "execution_count": 6,
   "metadata": {
    "ExecuteTime": {
     "end_time": "2023-10-27T03:59:21.511975Z",
     "start_time": "2023-10-27T03:59:19.006240Z"
    }
   },
   "outputs": [
    {
     "data": {
      "text/plain": [
       "patient_num                   0\n",
       "encounter_num                 0\n",
       "dx_date_shifted               0\n",
       "dx_code                       0\n",
       "age_at_visit_years            0\n",
       "discharge_status_c            0\n",
       "payor_type_primary_name    3691\n",
       "admit_date_shifted            0\n",
       "discharge_date_shifted     2581\n",
       "length_of_stay_days           0\n",
       "dtype: int64"
      ]
     },
     "execution_count": 6,
     "metadata": {},
     "output_type": "execute_result"
    }
   ],
   "source": [
    "diag_enc_merge = diagnosis.merge(encounters, on=['patient_num', 'encounter_num'], how='left')\n",
    "# Drop rows where 'discharge_status_c' and 'admit_date_shifted' are null\n",
    "diag_enc_merge = diag_enc_merge[diag_enc_merge['admit_date_shifted'].notnull()]\n",
    "diag_enc_merge = diag_enc_merge[diag_enc_merge['discharge_status_c'].notnull()]\n",
    "diag_enc_merge = diag_enc_merge.sort_values(by=['patient_num', 'dx_date_shifted'], ascending=True)\n",
    "\n",
    "diag_enc_merge.isnull().sum()"
   ]
  },
  {
   "cell_type": "code",
   "execution_count": 7,
   "metadata": {
    "ExecuteTime": {
     "end_time": "2023-10-27T03:59:21.818466Z",
     "start_time": "2023-10-27T03:59:21.512893Z"
    }
   },
   "outputs": [
    {
     "name": "stdout",
     "output_type": "stream",
     "text": [
      "Start merging\n"
     ]
    }
   ],
   "source": [
    "\n",
    "\n",
    "if not os.path.exists(os.path.join(PROCESSED_DATA_PATH, 'dx_code_list.csv')):\n",
    "    print(f'Not exists.')\n",
    "    # group by patient_num and encounter_num amd create a new column named 'dx_code_list'\n",
    "    # drop duplicates of patient_num and encounter_num\n",
    "    diag_enc_merge['dx_code_list'] = diag_enc_merge.groupby(['patient_num', 'encounter_num'])['dx_code'].transform(lambda x: ', '.join(x))\n",
    "    diag_enc_merge['dx_code_list'] = diag_enc_merge['dx_code_list'].apply(lambda x: list(set(x.split(', '))))\n",
    "    diag_enc_merge = diag_enc_merge.drop_duplicates(subset=['patient_num', 'encounter_num'])\n",
    "    \n",
    "    # # save dx_code_list to csv\n",
    "    save_processed_data(diag_enc_merge[['patient_num', 'encounter_num', 'dx_code_list']], 'dx_code_list', data_path=PROCESSED_DATA_PATH)\n",
    "else:\n",
    "    print('Start merging')\n",
    "    dx_code_list_df = load_processed_data('dx_code_list')\n",
    "    diag_enc_merge = diag_enc_merge.drop_duplicates(subset=['patient_num', 'encounter_num'])\n",
    "    diag_enc_merge = diag_enc_merge.merge(dx_code_list_df, on=['patient_num', 'encounter_num'])\n",
    "    \n",
    "diag_enc_merge = diag_enc_merge.drop(['dx_code'], axis=1)\n"
   ]
  },
  {
   "cell_type": "code",
   "execution_count": 8,
   "metadata": {
    "ExecuteTime": {
     "end_time": "2023-10-27T03:59:21.835432Z",
     "start_time": "2023-10-27T03:59:21.804559Z"
    }
   },
   "outputs": [
    {
     "data": {
      "text/html": [
       "<div>\n",
       "<style scoped>\n",
       "    .dataframe tbody tr th:only-of-type {\n",
       "        vertical-align: middle;\n",
       "    }\n",
       "\n",
       "    .dataframe tbody tr th {\n",
       "        vertical-align: top;\n",
       "    }\n",
       "\n",
       "    .dataframe thead th {\n",
       "        text-align: right;\n",
       "    }\n",
       "</style>\n",
       "<table border=\"1\" class=\"dataframe\">\n",
       "  <thead>\n",
       "    <tr style=\"text-align: right;\">\n",
       "      <th></th>\n",
       "      <th>patient_num</th>\n",
       "      <th>encounter_num</th>\n",
       "      <th>dx_date_shifted</th>\n",
       "      <th>age_at_visit_years</th>\n",
       "      <th>discharge_status_c</th>\n",
       "      <th>payor_type_primary_name</th>\n",
       "      <th>admit_date_shifted</th>\n",
       "      <th>discharge_date_shifted</th>\n",
       "      <th>length_of_stay_days</th>\n",
       "      <th>dx_code_list</th>\n",
       "    </tr>\n",
       "  </thead>\n",
       "  <tbody>\n",
       "    <tr>\n",
       "      <th>0</th>\n",
       "      <td>16777551</td>\n",
       "      <td>230789668</td>\n",
       "      <td>2021-08-18 13:22:00</td>\n",
       "      <td>66</td>\n",
       "      <td>HO</td>\n",
       "      <td>MEDICARE</td>\n",
       "      <td>2021-08-18 13:22:00</td>\n",
       "      <td>2021-08-18 16:50:00</td>\n",
       "      <td>1.0</td>\n",
       "      <td>['R55', 'S50.312A', 'E78.2', 'Z87.891', 'S90.4...</td>\n",
       "    </tr>\n",
       "    <tr>\n",
       "      <th>1</th>\n",
       "      <td>16777551</td>\n",
       "      <td>172656352</td>\n",
       "      <td>2022-09-15 21:19:00</td>\n",
       "      <td>67</td>\n",
       "      <td>HO</td>\n",
       "      <td>MEDICARE</td>\n",
       "      <td>2022-09-15 21:19:00</td>\n",
       "      <td>2022-09-16 14:31:00</td>\n",
       "      <td>1.0</td>\n",
       "      <td>['E78.5', 'Z23', 'K92.2', 'B20', 'N17.9', 'D64...</td>\n",
       "    </tr>\n",
       "    <tr>\n",
       "      <th>2</th>\n",
       "      <td>16777685</td>\n",
       "      <td>144353253</td>\n",
       "      <td>2020-12-21 20:17:00</td>\n",
       "      <td>65</td>\n",
       "      <td>HO</td>\n",
       "      <td>Managed Care (Private)</td>\n",
       "      <td>2020-12-21 20:17:00</td>\n",
       "      <td>2020-12-25 16:54:00</td>\n",
       "      <td>4.0</td>\n",
       "      <td>['R00.0', 'E43', 'K40.90', 'Z23', 'E78.00', 'F...</td>\n",
       "    </tr>\n",
       "    <tr>\n",
       "      <th>3</th>\n",
       "      <td>16777685</td>\n",
       "      <td>171297129</td>\n",
       "      <td>2020-12-27 14:56:00</td>\n",
       "      <td>65</td>\n",
       "      <td>HO</td>\n",
       "      <td>Managed Care (Private)</td>\n",
       "      <td>2020-12-27 14:56:00</td>\n",
       "      <td>2021-01-04 08:46:00</td>\n",
       "      <td>8.0</td>\n",
       "      <td>['N17.9', 'Z86.19', 'Z86.718', 'K40.90', 'E78....</td>\n",
       "    </tr>\n",
       "    <tr>\n",
       "      <th>4</th>\n",
       "      <td>16778374</td>\n",
       "      <td>136581620</td>\n",
       "      <td>2022-07-13 06:35:00</td>\n",
       "      <td>32</td>\n",
       "      <td>HO</td>\n",
       "      <td>Managed Care (Private)</td>\n",
       "      <td>2022-07-13 06:35:00</td>\n",
       "      <td>2022-07-16 12:22:00</td>\n",
       "      <td>3.0</td>\n",
       "      <td>['O69.0XX0', 'O69.0XX1', 'Z3A.40', 'Z37.0', 'Z...</td>\n",
       "    </tr>\n",
       "    <tr>\n",
       "      <th>...</th>\n",
       "      <td>...</td>\n",
       "      <td>...</td>\n",
       "      <td>...</td>\n",
       "      <td>...</td>\n",
       "      <td>...</td>\n",
       "      <td>...</td>\n",
       "      <td>...</td>\n",
       "      <td>...</td>\n",
       "      <td>...</td>\n",
       "      <td>...</td>\n",
       "    </tr>\n",
       "    <tr>\n",
       "      <th>122524</th>\n",
       "      <td>70484423</td>\n",
       "      <td>254680619</td>\n",
       "      <td>2022-10-14 23:33:00</td>\n",
       "      <td>22</td>\n",
       "      <td>HO</td>\n",
       "      <td>Managed Care (Private)</td>\n",
       "      <td>2022-10-14 23:33:00</td>\n",
       "      <td>2022-10-15 01:14:00</td>\n",
       "      <td>1.0</td>\n",
       "      <td>['Z20.822', 'T88.7XXA', 'R21', 'N30.01', 'R68....</td>\n",
       "    </tr>\n",
       "    <tr>\n",
       "      <th>122525</th>\n",
       "      <td>73671308</td>\n",
       "      <td>316066435</td>\n",
       "      <td>2022-01-08 12:53:00</td>\n",
       "      <td>30</td>\n",
       "      <td>HO</td>\n",
       "      <td>Managed Care (Private)</td>\n",
       "      <td>2022-01-08 12:53:00</td>\n",
       "      <td>2022-01-08 14:14:00</td>\n",
       "      <td>1.0</td>\n",
       "      <td>['S06.0X0A', 'M25.511', 'R51.9']</td>\n",
       "    </tr>\n",
       "    <tr>\n",
       "      <th>122526</th>\n",
       "      <td>77935325</td>\n",
       "      <td>114584299</td>\n",
       "      <td>2019-06-27 13:58:00</td>\n",
       "      <td>30</td>\n",
       "      <td>HO</td>\n",
       "      <td>Medicaid HMO</td>\n",
       "      <td>2019-06-27 13:58:00</td>\n",
       "      <td>2019-06-27 17:12:00</td>\n",
       "      <td>1.0</td>\n",
       "      <td>['O76', 'Z3A.38', 'O24.32', 'O77.0', 'E66.01',...</td>\n",
       "    </tr>\n",
       "    <tr>\n",
       "      <th>122527</th>\n",
       "      <td>77935325</td>\n",
       "      <td>92667355</td>\n",
       "      <td>2019-06-27 19:44:00</td>\n",
       "      <td>30</td>\n",
       "      <td>HO</td>\n",
       "      <td>Medicaid HMO</td>\n",
       "      <td>2019-06-27 19:44:00</td>\n",
       "      <td>2019-06-30 12:16:00</td>\n",
       "      <td>3.0</td>\n",
       "      <td>['O76', 'Z3A.38', 'O24.919', 'O77.0', 'O24.32'...</td>\n",
       "    </tr>\n",
       "    <tr>\n",
       "      <th>122528</th>\n",
       "      <td>83777223</td>\n",
       "      <td>136178727</td>\n",
       "      <td>2022-06-09 08:44:00</td>\n",
       "      <td>29</td>\n",
       "      <td>HO</td>\n",
       "      <td>Managed Care (Private)</td>\n",
       "      <td>2022-06-09 08:44:00</td>\n",
       "      <td>2022-06-09 09:33:00</td>\n",
       "      <td>1.0</td>\n",
       "      <td>['B96.89', 'Z51.89', 'L08.9']</td>\n",
       "    </tr>\n",
       "  </tbody>\n",
       "</table>\n",
       "<p>122529 rows × 10 columns</p>\n",
       "</div>"
      ],
      "text/plain": [
       "        patient_num  encounter_num      dx_date_shifted  age_at_visit_years  \\\n",
       "0          16777551      230789668  2021-08-18 13:22:00                  66   \n",
       "1          16777551      172656352  2022-09-15 21:19:00                  67   \n",
       "2          16777685      144353253  2020-12-21 20:17:00                  65   \n",
       "3          16777685      171297129  2020-12-27 14:56:00                  65   \n",
       "4          16778374      136581620  2022-07-13 06:35:00                  32   \n",
       "...             ...            ...                  ...                 ...   \n",
       "122524     70484423      254680619  2022-10-14 23:33:00                  22   \n",
       "122525     73671308      316066435  2022-01-08 12:53:00                  30   \n",
       "122526     77935325      114584299  2019-06-27 13:58:00                  30   \n",
       "122527     77935325       92667355  2019-06-27 19:44:00                  30   \n",
       "122528     83777223      136178727  2022-06-09 08:44:00                  29   \n",
       "\n",
       "       discharge_status_c payor_type_primary_name   admit_date_shifted  \\\n",
       "0                      HO                MEDICARE  2021-08-18 13:22:00   \n",
       "1                      HO                MEDICARE  2022-09-15 21:19:00   \n",
       "2                      HO  Managed Care (Private)  2020-12-21 20:17:00   \n",
       "3                      HO  Managed Care (Private)  2020-12-27 14:56:00   \n",
       "4                      HO  Managed Care (Private)  2022-07-13 06:35:00   \n",
       "...                   ...                     ...                  ...   \n",
       "122524                 HO  Managed Care (Private)  2022-10-14 23:33:00   \n",
       "122525                 HO  Managed Care (Private)  2022-01-08 12:53:00   \n",
       "122526                 HO            Medicaid HMO  2019-06-27 13:58:00   \n",
       "122527                 HO            Medicaid HMO  2019-06-27 19:44:00   \n",
       "122528                 HO  Managed Care (Private)  2022-06-09 08:44:00   \n",
       "\n",
       "       discharge_date_shifted  length_of_stay_days  \\\n",
       "0         2021-08-18 16:50:00                  1.0   \n",
       "1         2022-09-16 14:31:00                  1.0   \n",
       "2         2020-12-25 16:54:00                  4.0   \n",
       "3         2021-01-04 08:46:00                  8.0   \n",
       "4         2022-07-16 12:22:00                  3.0   \n",
       "...                       ...                  ...   \n",
       "122524    2022-10-15 01:14:00                  1.0   \n",
       "122525    2022-01-08 14:14:00                  1.0   \n",
       "122526    2019-06-27 17:12:00                  1.0   \n",
       "122527    2019-06-30 12:16:00                  3.0   \n",
       "122528    2022-06-09 09:33:00                  1.0   \n",
       "\n",
       "                                             dx_code_list  \n",
       "0       ['R55', 'S50.312A', 'E78.2', 'Z87.891', 'S90.4...  \n",
       "1       ['E78.5', 'Z23', 'K92.2', 'B20', 'N17.9', 'D64...  \n",
       "2       ['R00.0', 'E43', 'K40.90', 'Z23', 'E78.00', 'F...  \n",
       "3       ['N17.9', 'Z86.19', 'Z86.718', 'K40.90', 'E78....  \n",
       "4       ['O69.0XX0', 'O69.0XX1', 'Z3A.40', 'Z37.0', 'Z...  \n",
       "...                                                   ...  \n",
       "122524  ['Z20.822', 'T88.7XXA', 'R21', 'N30.01', 'R68....  \n",
       "122525                   ['S06.0X0A', 'M25.511', 'R51.9']  \n",
       "122526  ['O76', 'Z3A.38', 'O24.32', 'O77.0', 'E66.01',...  \n",
       "122527  ['O76', 'Z3A.38', 'O24.919', 'O77.0', 'O24.32'...  \n",
       "122528                      ['B96.89', 'Z51.89', 'L08.9']  \n",
       "\n",
       "[122529 rows x 10 columns]"
      ]
     },
     "execution_count": 8,
     "metadata": {},
     "output_type": "execute_result"
    }
   ],
   "source": [
    "diag_enc_merge"
   ]
  },
  {
   "cell_type": "code",
   "execution_count": 9,
   "metadata": {
    "ExecuteTime": {
     "end_time": "2023-10-27T03:59:21.973597Z",
     "start_time": "2023-10-27T03:59:21.835572Z"
    }
   },
   "outputs": [],
   "source": [
    "# Change the data type of 'xxx_date_shift' to datetime\n",
    "diag_enc_merge['dx_date_shifted'] = pd.to_datetime(diag_enc_merge['dx_date_shifted'])\n",
    "diag_enc_merge['admit_date_shifted'] = pd.to_datetime(diag_enc_merge['admit_date_shifted'])\n",
    "diag_enc_merge['discharge_date_shifted'] = pd.to_datetime(diag_enc_merge['discharge_date_shifted'])\n",
    "\n",
    "# Drop the rows where 'dx_date_shifted' before date 2020-03-01\n",
    "diag_enc_merge = diag_enc_merge[diag_enc_merge['dx_date_shifted'] > datetime(2020, 3, 1)]\n"
   ]
  },
  {
   "cell_type": "code",
   "execution_count": 10,
   "metadata": {
    "ExecuteTime": {
     "end_time": "2023-10-27T03:59:21.977026Z",
     "start_time": "2023-10-27T03:59:21.903109Z"
    }
   },
   "outputs": [
    {
     "name": "stderr",
     "output_type": "stream",
     "text": [
      "/var/folders/hv/w9cj1y9x3y38xrfqrbvdc3y00000gn/T/ipykernel_31250/3755995550.py:2: SettingWithCopyWarning: \n",
      "A value is trying to be set on a copy of a slice from a DataFrame.\n",
      "Try using .loc[row_indexer,col_indexer] = value instead\n",
      "\n",
      "See the caveats in the documentation: https://pandas.pydata.org/pandas-docs/stable/user_guide/indexing.html#returning-a-view-versus-a-copy\n",
      "  diag_enc_merge['dx_date_shifted'] = pd.to_datetime(diag_enc_merge['dx_date_shifted']).dt.date\n",
      "/var/folders/hv/w9cj1y9x3y38xrfqrbvdc3y00000gn/T/ipykernel_31250/3755995550.py:3: SettingWithCopyWarning: \n",
      "A value is trying to be set on a copy of a slice from a DataFrame.\n",
      "Try using .loc[row_indexer,col_indexer] = value instead\n",
      "\n",
      "See the caveats in the documentation: https://pandas.pydata.org/pandas-docs/stable/user_guide/indexing.html#returning-a-view-versus-a-copy\n",
      "  diag_enc_merge['admit_date_shifted'] = pd.to_datetime(diag_enc_merge['admit_date_shifted']).dt.date\n",
      "/var/folders/hv/w9cj1y9x3y38xrfqrbvdc3y00000gn/T/ipykernel_31250/3755995550.py:4: SettingWithCopyWarning: \n",
      "A value is trying to be set on a copy of a slice from a DataFrame.\n",
      "Try using .loc[row_indexer,col_indexer] = value instead\n",
      "\n",
      "See the caveats in the documentation: https://pandas.pydata.org/pandas-docs/stable/user_guide/indexing.html#returning-a-view-versus-a-copy\n",
      "  diag_enc_merge['discharge_date_shifted'] = pd.to_datetime(diag_enc_merge['discharge_date_shifted']).dt.date\n"
     ]
    }
   ],
   "source": [
    "# Change the data type of 'xxx_date_shift' to datetime\n",
    "diag_enc_merge['dx_date_shifted'] = pd.to_datetime(diag_enc_merge['dx_date_shifted']).dt.date\n",
    "diag_enc_merge['admit_date_shifted'] = pd.to_datetime(diag_enc_merge['admit_date_shifted']).dt.date\n",
    "diag_enc_merge['discharge_date_shifted'] = pd.to_datetime(diag_enc_merge['discharge_date_shifted']).dt.date\n"
   ]
  },
  {
   "cell_type": "code",
   "execution_count": 11,
   "metadata": {
    "ExecuteTime": {
     "end_time": "2023-10-27T03:59:21.978360Z",
     "start_time": "2023-10-27T03:59:21.959107Z"
    }
   },
   "outputs": [
    {
     "data": {
      "text/html": [
       "<div>\n",
       "<style scoped>\n",
       "    .dataframe tbody tr th:only-of-type {\n",
       "        vertical-align: middle;\n",
       "    }\n",
       "\n",
       "    .dataframe tbody tr th {\n",
       "        vertical-align: top;\n",
       "    }\n",
       "\n",
       "    .dataframe thead th {\n",
       "        text-align: right;\n",
       "    }\n",
       "</style>\n",
       "<table border=\"1\" class=\"dataframe\">\n",
       "  <thead>\n",
       "    <tr style=\"text-align: right;\">\n",
       "      <th></th>\n",
       "      <th>patient_num</th>\n",
       "      <th>encounter_num</th>\n",
       "      <th>dx_date_shifted</th>\n",
       "      <th>age_at_visit_years</th>\n",
       "      <th>discharge_status_c</th>\n",
       "      <th>payor_type_primary_name</th>\n",
       "      <th>admit_date_shifted</th>\n",
       "      <th>discharge_date_shifted</th>\n",
       "      <th>length_of_stay_days</th>\n",
       "      <th>dx_code_list</th>\n",
       "    </tr>\n",
       "  </thead>\n",
       "  <tbody>\n",
       "    <tr>\n",
       "      <th>0</th>\n",
       "      <td>16777551</td>\n",
       "      <td>230789668</td>\n",
       "      <td>2021-08-18</td>\n",
       "      <td>66</td>\n",
       "      <td>HO</td>\n",
       "      <td>MEDICARE</td>\n",
       "      <td>2021-08-18</td>\n",
       "      <td>2021-08-18</td>\n",
       "      <td>1.0</td>\n",
       "      <td>['R55', 'S50.312A', 'E78.2', 'Z87.891', 'S90.4...</td>\n",
       "    </tr>\n",
       "    <tr>\n",
       "      <th>1</th>\n",
       "      <td>16777551</td>\n",
       "      <td>172656352</td>\n",
       "      <td>2022-09-15</td>\n",
       "      <td>67</td>\n",
       "      <td>HO</td>\n",
       "      <td>MEDICARE</td>\n",
       "      <td>2022-09-15</td>\n",
       "      <td>2022-09-16</td>\n",
       "      <td>1.0</td>\n",
       "      <td>['E78.5', 'Z23', 'K92.2', 'B20', 'N17.9', 'D64...</td>\n",
       "    </tr>\n",
       "    <tr>\n",
       "      <th>2</th>\n",
       "      <td>16777685</td>\n",
       "      <td>144353253</td>\n",
       "      <td>2020-12-21</td>\n",
       "      <td>65</td>\n",
       "      <td>HO</td>\n",
       "      <td>Managed Care (Private)</td>\n",
       "      <td>2020-12-21</td>\n",
       "      <td>2020-12-25</td>\n",
       "      <td>4.0</td>\n",
       "      <td>['R00.0', 'E43', 'K40.90', 'Z23', 'E78.00', 'F...</td>\n",
       "    </tr>\n",
       "    <tr>\n",
       "      <th>3</th>\n",
       "      <td>16777685</td>\n",
       "      <td>171297129</td>\n",
       "      <td>2020-12-27</td>\n",
       "      <td>65</td>\n",
       "      <td>HO</td>\n",
       "      <td>Managed Care (Private)</td>\n",
       "      <td>2020-12-27</td>\n",
       "      <td>2021-01-04</td>\n",
       "      <td>8.0</td>\n",
       "      <td>['N17.9', 'Z86.19', 'Z86.718', 'K40.90', 'E78....</td>\n",
       "    </tr>\n",
       "    <tr>\n",
       "      <th>4</th>\n",
       "      <td>16778374</td>\n",
       "      <td>136581620</td>\n",
       "      <td>2022-07-13</td>\n",
       "      <td>32</td>\n",
       "      <td>HO</td>\n",
       "      <td>Managed Care (Private)</td>\n",
       "      <td>2022-07-13</td>\n",
       "      <td>2022-07-16</td>\n",
       "      <td>3.0</td>\n",
       "      <td>['O69.0XX0', 'O69.0XX1', 'Z3A.40', 'Z37.0', 'Z...</td>\n",
       "    </tr>\n",
       "    <tr>\n",
       "      <th>5</th>\n",
       "      <td>16779256</td>\n",
       "      <td>167172872</td>\n",
       "      <td>2022-08-19</td>\n",
       "      <td>79</td>\n",
       "      <td>HO</td>\n",
       "      <td>Medicare HMO</td>\n",
       "      <td>2022-08-19</td>\n",
       "      <td>2022-08-19</td>\n",
       "      <td>1.0</td>\n",
       "      <td>['B37.89']</td>\n",
       "    </tr>\n",
       "    <tr>\n",
       "      <th>8</th>\n",
       "      <td>16779605</td>\n",
       "      <td>205707007</td>\n",
       "      <td>2022-02-19</td>\n",
       "      <td>53</td>\n",
       "      <td>HO</td>\n",
       "      <td>MEDICARE</td>\n",
       "      <td>2022-02-19</td>\n",
       "      <td>2022-02-20</td>\n",
       "      <td>1.0</td>\n",
       "      <td>['R07.9', 'R11.2', 'R10.31', 'N17.9', 'R07.89'...</td>\n",
       "    </tr>\n",
       "    <tr>\n",
       "      <th>9</th>\n",
       "      <td>16779605</td>\n",
       "      <td>266877621</td>\n",
       "      <td>2022-02-22</td>\n",
       "      <td>53</td>\n",
       "      <td>HO</td>\n",
       "      <td>MEDICARE</td>\n",
       "      <td>2022-02-22</td>\n",
       "      <td>2022-02-22</td>\n",
       "      <td>1.0</td>\n",
       "      <td>['D57.3', 'R07.89', 'M79.7', 'R94.31', 'Z01.89...</td>\n",
       "    </tr>\n",
       "    <tr>\n",
       "      <th>10</th>\n",
       "      <td>16779605</td>\n",
       "      <td>121910904</td>\n",
       "      <td>2022-10-16</td>\n",
       "      <td>54</td>\n",
       "      <td>HO</td>\n",
       "      <td>MEDICARE</td>\n",
       "      <td>2022-10-16</td>\n",
       "      <td>2022-10-17</td>\n",
       "      <td>1.0</td>\n",
       "      <td>['R07.9', 'E78.5', 'R07.89', 'M79.7', 'R94.31'...</td>\n",
       "    </tr>\n",
       "    <tr>\n",
       "      <th>11</th>\n",
       "      <td>16779940</td>\n",
       "      <td>106511165</td>\n",
       "      <td>2021-12-23</td>\n",
       "      <td>55</td>\n",
       "      <td>HO</td>\n",
       "      <td>MEDICARE</td>\n",
       "      <td>2021-12-23</td>\n",
       "      <td>2021-12-23</td>\n",
       "      <td>1.0</td>\n",
       "      <td>['R06.02']</td>\n",
       "    </tr>\n",
       "    <tr>\n",
       "      <th>12</th>\n",
       "      <td>16779940</td>\n",
       "      <td>128207793</td>\n",
       "      <td>2022-06-13</td>\n",
       "      <td>56</td>\n",
       "      <td>HO</td>\n",
       "      <td>MEDICARE</td>\n",
       "      <td>2022-06-13</td>\n",
       "      <td>2022-06-13</td>\n",
       "      <td>1.0</td>\n",
       "      <td>['M25.562', 'M77.8']</td>\n",
       "    </tr>\n",
       "    <tr>\n",
       "      <th>13</th>\n",
       "      <td>16779940</td>\n",
       "      <td>179906558</td>\n",
       "      <td>2022-09-27</td>\n",
       "      <td>56</td>\n",
       "      <td>HO</td>\n",
       "      <td>MEDICARE</td>\n",
       "      <td>2022-09-27</td>\n",
       "      <td>2022-09-27</td>\n",
       "      <td>1.0</td>\n",
       "      <td>['B34.9', 'J44.1']</td>\n",
       "    </tr>\n",
       "    <tr>\n",
       "      <th>14</th>\n",
       "      <td>16779960</td>\n",
       "      <td>172406758</td>\n",
       "      <td>2021-08-20</td>\n",
       "      <td>53</td>\n",
       "      <td>HO</td>\n",
       "      <td>Managed Care (Private)</td>\n",
       "      <td>2021-08-20</td>\n",
       "      <td>2021-08-20</td>\n",
       "      <td>1.0</td>\n",
       "      <td>['R19.7', 'Z20.822', 'U07.1', 'R68.83']</td>\n",
       "    </tr>\n",
       "    <tr>\n",
       "      <th>15</th>\n",
       "      <td>16780484</td>\n",
       "      <td>147612356</td>\n",
       "      <td>2021-10-03</td>\n",
       "      <td>92</td>\n",
       "      <td>HO</td>\n",
       "      <td>MEDICARE</td>\n",
       "      <td>2021-10-03</td>\n",
       "      <td>2021-10-04</td>\n",
       "      <td>1.0</td>\n",
       "      <td>['R07.9', 'Z87.891', 'R61', 'V89.2XXA', 'R94.3...</td>\n",
       "    </tr>\n",
       "    <tr>\n",
       "      <th>16</th>\n",
       "      <td>16780484</td>\n",
       "      <td>187528134</td>\n",
       "      <td>2022-02-19</td>\n",
       "      <td>93</td>\n",
       "      <td>HO</td>\n",
       "      <td>MEDICARE</td>\n",
       "      <td>2022-02-19</td>\n",
       "      <td>2022-02-19</td>\n",
       "      <td>1.0</td>\n",
       "      <td>['R55', 'E03.9', 'Z87.891', 'I10', 'I45.10', '...</td>\n",
       "    </tr>\n",
       "    <tr>\n",
       "      <th>17</th>\n",
       "      <td>16781111</td>\n",
       "      <td>166675550</td>\n",
       "      <td>2021-06-08</td>\n",
       "      <td>83</td>\n",
       "      <td>RH</td>\n",
       "      <td>Medicare HMO</td>\n",
       "      <td>2021-06-08</td>\n",
       "      <td>2021-06-19</td>\n",
       "      <td>11.0</td>\n",
       "      <td>['I13.0', 'I35.2', 'E78.5', 'N18.31', 'D64.9',...</td>\n",
       "    </tr>\n",
       "    <tr>\n",
       "      <th>18</th>\n",
       "      <td>16781901</td>\n",
       "      <td>116990960</td>\n",
       "      <td>2021-11-04</td>\n",
       "      <td>41</td>\n",
       "      <td>HO</td>\n",
       "      <td>MEDICAID</td>\n",
       "      <td>2021-11-04</td>\n",
       "      <td>2021-11-04</td>\n",
       "      <td>1.0</td>\n",
       "      <td>['R30.0', 'N30.90']</td>\n",
       "    </tr>\n",
       "    <tr>\n",
       "      <th>19</th>\n",
       "      <td>16782332</td>\n",
       "      <td>200822850</td>\n",
       "      <td>2021-09-24</td>\n",
       "      <td>57</td>\n",
       "      <td>HO</td>\n",
       "      <td>Medicaid HMO</td>\n",
       "      <td>2021-09-24</td>\n",
       "      <td>2021-09-24</td>\n",
       "      <td>1.0</td>\n",
       "      <td>['Z87.891', 'Z59.0', 'Z59.00', 'Z13.9', 'Z03.8...</td>\n",
       "    </tr>\n",
       "    <tr>\n",
       "      <th>20</th>\n",
       "      <td>16782332</td>\n",
       "      <td>112828177</td>\n",
       "      <td>2021-10-18</td>\n",
       "      <td>58</td>\n",
       "      <td>HO</td>\n",
       "      <td>Medicaid HMO</td>\n",
       "      <td>2021-10-18</td>\n",
       "      <td>2021-10-18</td>\n",
       "      <td>1.0</td>\n",
       "      <td>['Z87.891', 'Z20.822', 'R05.9', 'M79.10', 'Z59...</td>\n",
       "    </tr>\n",
       "    <tr>\n",
       "      <th>21</th>\n",
       "      <td>16782332</td>\n",
       "      <td>124850671</td>\n",
       "      <td>2021-10-26</td>\n",
       "      <td>58</td>\n",
       "      <td>HO</td>\n",
       "      <td>Medicaid HMO</td>\n",
       "      <td>2021-10-26</td>\n",
       "      <td>2021-10-26</td>\n",
       "      <td>1.0</td>\n",
       "      <td>['J06.9', 'Z87.891', 'R05.9', 'E11.9', 'M79.10...</td>\n",
       "    </tr>\n",
       "  </tbody>\n",
       "</table>\n",
       "</div>"
      ],
      "text/plain": [
       "    patient_num  encounter_num dx_date_shifted  age_at_visit_years  \\\n",
       "0      16777551      230789668      2021-08-18                  66   \n",
       "1      16777551      172656352      2022-09-15                  67   \n",
       "2      16777685      144353253      2020-12-21                  65   \n",
       "3      16777685      171297129      2020-12-27                  65   \n",
       "4      16778374      136581620      2022-07-13                  32   \n",
       "5      16779256      167172872      2022-08-19                  79   \n",
       "8      16779605      205707007      2022-02-19                  53   \n",
       "9      16779605      266877621      2022-02-22                  53   \n",
       "10     16779605      121910904      2022-10-16                  54   \n",
       "11     16779940      106511165      2021-12-23                  55   \n",
       "12     16779940      128207793      2022-06-13                  56   \n",
       "13     16779940      179906558      2022-09-27                  56   \n",
       "14     16779960      172406758      2021-08-20                  53   \n",
       "15     16780484      147612356      2021-10-03                  92   \n",
       "16     16780484      187528134      2022-02-19                  93   \n",
       "17     16781111      166675550      2021-06-08                  83   \n",
       "18     16781901      116990960      2021-11-04                  41   \n",
       "19     16782332      200822850      2021-09-24                  57   \n",
       "20     16782332      112828177      2021-10-18                  58   \n",
       "21     16782332      124850671      2021-10-26                  58   \n",
       "\n",
       "   discharge_status_c payor_type_primary_name admit_date_shifted  \\\n",
       "0                  HO                MEDICARE         2021-08-18   \n",
       "1                  HO                MEDICARE         2022-09-15   \n",
       "2                  HO  Managed Care (Private)         2020-12-21   \n",
       "3                  HO  Managed Care (Private)         2020-12-27   \n",
       "4                  HO  Managed Care (Private)         2022-07-13   \n",
       "5                  HO            Medicare HMO         2022-08-19   \n",
       "8                  HO                MEDICARE         2022-02-19   \n",
       "9                  HO                MEDICARE         2022-02-22   \n",
       "10                 HO                MEDICARE         2022-10-16   \n",
       "11                 HO                MEDICARE         2021-12-23   \n",
       "12                 HO                MEDICARE         2022-06-13   \n",
       "13                 HO                MEDICARE         2022-09-27   \n",
       "14                 HO  Managed Care (Private)         2021-08-20   \n",
       "15                 HO                MEDICARE         2021-10-03   \n",
       "16                 HO                MEDICARE         2022-02-19   \n",
       "17                 RH            Medicare HMO         2021-06-08   \n",
       "18                 HO                MEDICAID         2021-11-04   \n",
       "19                 HO            Medicaid HMO         2021-09-24   \n",
       "20                 HO            Medicaid HMO         2021-10-18   \n",
       "21                 HO            Medicaid HMO         2021-10-26   \n",
       "\n",
       "   discharge_date_shifted  length_of_stay_days  \\\n",
       "0              2021-08-18                  1.0   \n",
       "1              2022-09-16                  1.0   \n",
       "2              2020-12-25                  4.0   \n",
       "3              2021-01-04                  8.0   \n",
       "4              2022-07-16                  3.0   \n",
       "5              2022-08-19                  1.0   \n",
       "8              2022-02-20                  1.0   \n",
       "9              2022-02-22                  1.0   \n",
       "10             2022-10-17                  1.0   \n",
       "11             2021-12-23                  1.0   \n",
       "12             2022-06-13                  1.0   \n",
       "13             2022-09-27                  1.0   \n",
       "14             2021-08-20                  1.0   \n",
       "15             2021-10-04                  1.0   \n",
       "16             2022-02-19                  1.0   \n",
       "17             2021-06-19                 11.0   \n",
       "18             2021-11-04                  1.0   \n",
       "19             2021-09-24                  1.0   \n",
       "20             2021-10-18                  1.0   \n",
       "21             2021-10-26                  1.0   \n",
       "\n",
       "                                         dx_code_list  \n",
       "0   ['R55', 'S50.312A', 'E78.2', 'Z87.891', 'S90.4...  \n",
       "1   ['E78.5', 'Z23', 'K92.2', 'B20', 'N17.9', 'D64...  \n",
       "2   ['R00.0', 'E43', 'K40.90', 'Z23', 'E78.00', 'F...  \n",
       "3   ['N17.9', 'Z86.19', 'Z86.718', 'K40.90', 'E78....  \n",
       "4   ['O69.0XX0', 'O69.0XX1', 'Z3A.40', 'Z37.0', 'Z...  \n",
       "5                                          ['B37.89']  \n",
       "8   ['R07.9', 'R11.2', 'R10.31', 'N17.9', 'R07.89'...  \n",
       "9   ['D57.3', 'R07.89', 'M79.7', 'R94.31', 'Z01.89...  \n",
       "10  ['R07.9', 'E78.5', 'R07.89', 'M79.7', 'R94.31'...  \n",
       "11                                         ['R06.02']  \n",
       "12                               ['M25.562', 'M77.8']  \n",
       "13                                 ['B34.9', 'J44.1']  \n",
       "14            ['R19.7', 'Z20.822', 'U07.1', 'R68.83']  \n",
       "15  ['R07.9', 'Z87.891', 'R61', 'V89.2XXA', 'R94.3...  \n",
       "16  ['R55', 'E03.9', 'Z87.891', 'I10', 'I45.10', '...  \n",
       "17  ['I13.0', 'I35.2', 'E78.5', 'N18.31', 'D64.9',...  \n",
       "18                                ['R30.0', 'N30.90']  \n",
       "19  ['Z87.891', 'Z59.0', 'Z59.00', 'Z13.9', 'Z03.8...  \n",
       "20  ['Z87.891', 'Z20.822', 'R05.9', 'M79.10', 'Z59...  \n",
       "21  ['J06.9', 'Z87.891', 'R05.9', 'E11.9', 'M79.10...  "
      ]
     },
     "execution_count": 11,
     "metadata": {},
     "output_type": "execute_result"
    }
   ],
   "source": [
    "diag_enc_merge.head(20)"
   ]
  },
  {
   "cell_type": "code",
   "execution_count": 12,
   "metadata": {
    "ExecuteTime": {
     "end_time": "2023-10-27T03:59:22.348736Z",
     "start_time": "2023-10-27T03:59:21.964017Z"
    },
    "collapsed": false
   },
   "outputs": [],
   "source": [
    "save_processed_data(diag_enc_merge, 'diag_enc_merge_original')"
   ]
  },
  {
   "attachments": {},
   "cell_type": "markdown",
   "metadata": {},
   "source": [
    "# Re-calculate hospitalization"
   ]
  },
  {
   "cell_type": "code",
   "execution_count": 13,
   "metadata": {
    "ExecuteTime": {
     "end_time": "2023-10-27T03:59:22.367044Z",
     "start_time": "2023-10-27T03:59:22.364891Z"
    }
   },
   "outputs": [
    {
     "name": "stderr",
     "output_type": "stream",
     "text": [
      "/var/folders/hv/w9cj1y9x3y38xrfqrbvdc3y00000gn/T/ipykernel_31250/194364368.py:1: SettingWithCopyWarning: \n",
      "A value is trying to be set on a copy of a slice from a DataFrame.\n",
      "Try using .loc[row_indexer,col_indexer] = value instead\n",
      "\n",
      "See the caveats in the documentation: https://pandas.pydata.org/pandas-docs/stable/user_guide/indexing.html#returning-a-view-versus-a-copy\n",
      "  diag_enc_merge['dx_date_shifted'] = pd.to_datetime(diag_enc_merge['dx_date_shifted'])\n",
      "/var/folders/hv/w9cj1y9x3y38xrfqrbvdc3y00000gn/T/ipykernel_31250/194364368.py:2: SettingWithCopyWarning: \n",
      "A value is trying to be set on a copy of a slice from a DataFrame.\n",
      "Try using .loc[row_indexer,col_indexer] = value instead\n",
      "\n",
      "See the caveats in the documentation: https://pandas.pydata.org/pandas-docs/stable/user_guide/indexing.html#returning-a-view-versus-a-copy\n",
      "  diag_enc_merge['admit_date_shifted'] = pd.to_datetime(diag_enc_merge['admit_date_shifted'])\n",
      "/var/folders/hv/w9cj1y9x3y38xrfqrbvdc3y00000gn/T/ipykernel_31250/194364368.py:3: SettingWithCopyWarning: \n",
      "A value is trying to be set on a copy of a slice from a DataFrame.\n",
      "Try using .loc[row_indexer,col_indexer] = value instead\n",
      "\n",
      "See the caveats in the documentation: https://pandas.pydata.org/pandas-docs/stable/user_guide/indexing.html#returning-a-view-versus-a-copy\n",
      "  diag_enc_merge['discharge_date_shifted'] = pd.to_datetime(diag_enc_merge['discharge_date_shifted'])\n"
     ]
    }
   ],
   "source": [
    "diag_enc_merge['dx_date_shifted'] = pd.to_datetime(diag_enc_merge['dx_date_shifted'])\n",
    "diag_enc_merge['admit_date_shifted'] = pd.to_datetime(diag_enc_merge['admit_date_shifted'])\n",
    "diag_enc_merge['discharge_date_shifted'] = pd.to_datetime(diag_enc_merge['discharge_date_shifted'])"
   ]
  },
  {
   "cell_type": "code",
   "execution_count": 14,
   "metadata": {
    "ExecuteTime": {
     "end_time": "2023-10-27T03:59:22.408071Z",
     "start_time": "2023-10-27T03:59:22.368049Z"
    }
   },
   "outputs": [
    {
     "name": "stdout",
     "output_type": "stream",
     "text": [
      "0\n",
      "0\n"
     ]
    }
   ],
   "source": [
    "diag_enc_merge_los = diag_enc_merge.copy()\n",
    "diag_enc_merge_los.dropna(subset=['admit_date_shifted'], inplace=True)\n",
    "diag_enc_merge_los.dropna(subset=['discharge_date_shifted'], inplace=True)\n",
    "diag_enc_merge_los.sort_values([\"patient_num\", \"admit_date_shifted\"], inplace=True)\n",
    "print(diag_enc_merge_los['admit_date_shifted'].isnull().sum())\n",
    "print(diag_enc_merge_los['discharge_date_shifted'].isnull().sum())"
   ]
  },
  {
   "cell_type": "code",
   "execution_count": 15,
   "metadata": {
    "ExecuteTime": {
     "end_time": "2023-10-27T03:59:33.235795Z",
     "start_time": "2023-10-27T03:59:22.398501Z"
    }
   },
   "outputs": [
    {
     "name": "stdout",
     "output_type": "stream",
     "text": [
      "Processing data ...\n",
      "Data saved successfully!\n"
     ]
    }
   ],
   "source": [
    "print('Processing data ...')\n",
    "diag_enc_merge_recalculate = count_los(diag_enc_merge_los)\n",
    "save_processed_data(diag_enc_merge_recalculate, 'diag_enc_merge_covid_los_recalculate')\n",
    "print('Data saved successfully!')\n"
   ]
  },
  {
   "attachments": {},
   "cell_type": "markdown",
   "metadata": {},
   "source": [
    "# Process Immunization Data"
   ]
  },
  {
   "cell_type": "code",
   "execution_count": 16,
   "metadata": {
    "ExecuteTime": {
     "end_time": "2023-10-27T03:59:33.342379Z",
     "start_time": "2023-10-27T03:59:33.235948Z"
    }
   },
   "outputs": [
    {
     "data": {
      "text/plain": [
       "(225457, 5)"
      ]
     },
     "execution_count": 16,
     "metadata": {},
     "output_type": "execute_result"
    }
   ],
   "source": [
    "# Read immunization.csv\n",
    "immunization_path = os.path.join(COVID_MERGED_DATA_PATH, 'immunization.csv')\n",
    "immunization_df_copy = load_data(immunization_path)\n",
    "immunization_df_copy.shape"
   ]
  },
  {
   "cell_type": "code",
   "execution_count": 17,
   "metadata": {
    "ExecuteTime": {
     "end_time": "2023-10-27T03:59:33.556579Z",
     "start_time": "2023-10-27T03:59:33.342766Z"
    }
   },
   "outputs": [],
   "source": [
    "immu_df = immunization_df_copy.copy()\n",
    "immu_df = immu_df[immu_df['immnztn_status_name'] == 'Given']\n",
    "immu_df = immu_df[immu_df['immunization_name'].str.contains('|'.join(immunization_name), na=False, case=False)]\n",
    "immu_df = immu_df[immu_df['immune_date_shifted'].notnull()]\n",
    "immu_df = immu_df.drop_duplicates(subset=['patient_num', 'encounter_num'], keep='first')"
   ]
  },
  {
   "cell_type": "code",
   "execution_count": 18,
   "metadata": {
    "ExecuteTime": {
     "end_time": "2023-10-27T03:59:33.591699Z",
     "start_time": "2023-10-27T03:59:33.573988Z"
    }
   },
   "outputs": [],
   "source": [
    "immu_df = immu_df[immunization_columns].astype(str)\n",
    "immu_df['immune_date_shifted'] = pd.to_datetime(immu_df['immune_date_shifted'], format='%Y-%m-%d %H:%M:%S').dt.date"
   ]
  },
  {
   "cell_type": "code",
   "execution_count": 19,
   "metadata": {
    "ExecuteTime": {
     "end_time": "2023-10-27T03:59:33.626243Z",
     "start_time": "2023-10-27T03:59:33.595504Z"
    }
   },
   "outputs": [],
   "source": [
    "def set_mfg(x: str):\n",
    "    if 'PFIZER' in x:\n",
    "        return 'PFIZER'\n",
    "    elif 'MODERNA' in x:\n",
    "        return 'MODERNA'\n",
    "    elif 'JANSSEN' in x:\n",
    "        return 'JANSSEN'\n",
    "    else:\n",
    "        return 'Others'\n",
    "immu_df['immu_mfg'] = immu_df['immunization_name'].apply(set_mfg)\n",
    "immu_df = immu_df.drop(columns=['immunization_name']).sort_values(by=['patient_num', 'immune_date_shifted'])"
   ]
  },
  {
   "cell_type": "code",
   "execution_count": 20,
   "metadata": {
    "ExecuteTime": {
     "end_time": "2023-10-27T03:59:33.812843Z",
     "start_time": "2023-10-27T03:59:33.628474Z"
    }
   },
   "outputs": [
    {
     "data": {
      "image/png": "[encoded data removed]",
      "text/plain": [
       "<Figure size 640x480 with 1 Axes>"
      ]
     },
     "metadata": {},
     "output_type": "display_data"
    }
   ],
   "source": [
    "# Count the number of vaccines received by each patient\n",
    "vaccine_counts = immu_df.groupby('patient_num').size().reset_index(name='count')\n",
    "\n",
    "# Count the patients receiving 1, 2, 3, or more vaccines\n",
    "count_summary = vaccine_counts['count'].value_counts().sort_index()\n",
    "\n",
    "# Plot the bar chart\n",
    "plt.bar(count_summary.index, count_summary.values)\n",
    "\n",
    "# Add labels and title\n",
    "plt.xlabel('Number of Vaccines Received')\n",
    "plt.ylabel('Number of Patients')\n",
    "plt.title('Vaccine Counts by Number of Vaccines Received')\n",
    "\n",
    "# Display the chart\n",
    "plt.savefig(os.path.join(RESULTS, 'Vaccine Counts.png'), bbox_inches='tight')\n",
    "plt.show()"
   ]
  },
  {
   "attachments": {},
   "cell_type": "markdown",
   "metadata": {},
   "source": [
    "# Add vaccination info"
   ]
  },
  {
   "cell_type": "markdown",
   "metadata": {
    "collapsed": false
   },
   "source": [
    "## Get full vaccination date"
   ]
  },
  {
   "cell_type": "code",
   "execution_count": 21,
   "metadata": {
    "ExecuteTime": {
     "end_time": "2023-10-27T03:59:40.659994Z",
     "start_time": "2023-10-27T03:59:33.823983Z"
    }
   },
   "outputs": [],
   "source": [
    "def get_vaccine_fulfillment_date(group):\n",
    "    group = group.sort_values('immune_date_shifted')\n",
    "    if any(group['immu_mfg'] == 'JANSSEN'):\n",
    "        return group.loc[group['immu_mfg'] == 'JANSSEN', 'immune_date_shifted'].iloc[0]\n",
    "    else:\n",
    "        if group['immu_mfg'].isin(['MODERNA', 'PFIZER']).sum() >= 2:\n",
    "            return group.loc[group['immu_mfg'].isin(['MODERNA', 'PFIZER']), 'immune_date_shifted'].iloc[1]\n",
    "    return pd.NaT\n",
    "\n",
    "immu_df['immune_date_shifted'] = pd.to_datetime(immu_df['immune_date_shifted'])\n",
    "df_sorted = immu_df.sort_values(['patient_num', 'immune_date_shifted'])\n",
    "fulfillment_dates = df_sorted.groupby('patient_num').apply(get_vaccine_fulfillment_date).dropna().reset_index()\n",
    "fulfillment_dates.columns = ['patient_num', 'date_of_full_vaccination']"
   ]
  },
  {
   "cell_type": "code",
   "execution_count": 22,
   "metadata": {
    "ExecuteTime": {
     "end_time": "2023-10-27T03:59:40.677837Z",
     "start_time": "2023-10-27T03:59:40.660532Z"
    }
   },
   "outputs": [],
   "source": [
    "save_processed_data(fulfillment_dates, 'date_of_full_vaccination')"
   ]
  },
  {
   "cell_type": "markdown",
   "metadata": {
    "collapsed": false
   },
   "source": [
    "## Filter patients with vaccine information"
   ]
  },
  {
   "cell_type": "code",
   "execution_count": 23,
   "metadata": {
    "ExecuteTime": {
     "end_time": "2023-10-27T03:59:40.828476Z",
     "start_time": "2023-10-27T03:59:40.678777Z"
    }
   },
   "outputs": [],
   "source": [
    "all_patient = load_processed_data('diag_enc_merge_covid_los_recalculate')\n",
    "full_dates = load_processed_data('date_of_full_vaccination')"
   ]
  },
  {
   "cell_type": "code",
   "execution_count": 24,
   "metadata": {
    "ExecuteTime": {
     "end_time": "2023-10-27T03:59:40.848318Z",
     "start_time": "2023-10-27T03:59:40.829572Z"
    },
    "collapsed": false
   },
   "outputs": [],
   "source": [
    "fulfillment_dates[\"patient_num\"] = fulfillment_dates[\"patient_num\"].astype(str)\n",
    "all_patient[\"patient_num\"] = all_patient[\"patient_num\"].astype(str)"
   ]
  },
  {
   "cell_type": "code",
   "execution_count": 25,
   "metadata": {
    "ExecuteTime": {
     "end_time": "2023-10-27T04:01:11.030912Z",
     "start_time": "2023-10-27T03:59:40.852648Z"
    },
    "collapsed": false
   },
   "outputs": [],
   "source": [
    "fully_vaccinated_patients, not_fully_vaccinated_patients = filter_vaccinated_patients(fulfillment_dates, all_patient)"
   ]
  },
  {
   "cell_type": "code",
   "execution_count": 26,
   "metadata": {
    "ExecuteTime": {
     "end_time": "2023-10-27T04:01:11.045236Z",
     "start_time": "2023-10-27T04:01:11.031661Z"
    },
    "collapsed": false
   },
   "outputs": [],
   "source": [
    "patients_with_vaccine_info = pd.concat([fully_vaccinated_patients, not_fully_vaccinated_patients])"
   ]
  },
  {
   "cell_type": "code",
   "execution_count": 27,
   "metadata": {
    "ExecuteTime": {
     "end_time": "2023-10-27T04:01:11.059672Z",
     "start_time": "2023-10-27T04:01:11.047422Z"
    },
    "collapsed": false
   },
   "outputs": [
    {
     "data": {
      "text/html": [
       "<div>\n",
       "<style scoped>\n",
       "    .dataframe tbody tr th:only-of-type {\n",
       "        vertical-align: middle;\n",
       "    }\n",
       "\n",
       "    .dataframe tbody tr th {\n",
       "        vertical-align: top;\n",
       "    }\n",
       "\n",
       "    .dataframe thead th {\n",
       "        text-align: right;\n",
       "    }\n",
       "</style>\n",
       "<table border=\"1\" class=\"dataframe\">\n",
       "  <thead>\n",
       "    <tr style=\"text-align: right;\">\n",
       "      <th></th>\n",
       "      <th>patient_num</th>\n",
       "      <th>encounter_num</th>\n",
       "      <th>dx_date_shifted</th>\n",
       "      <th>age_at_visit_years</th>\n",
       "      <th>discharge_status_c</th>\n",
       "      <th>payor_type_primary_name</th>\n",
       "      <th>admit_date_shifted</th>\n",
       "      <th>discharge_date_shifted</th>\n",
       "      <th>length_of_stay_days</th>\n",
       "      <th>dx_code_list</th>\n",
       "      <th>encounter_list</th>\n",
       "      <th>total_length_of_stay</th>\n",
       "      <th>date_of_full_vaccination</th>\n",
       "      <th>admission_after_vaccine</th>\n",
       "    </tr>\n",
       "  </thead>\n",
       "  <tbody>\n",
       "    <tr>\n",
       "      <th>0</th>\n",
       "      <td>16777551</td>\n",
       "      <td>172656352</td>\n",
       "      <td>2022-09-15</td>\n",
       "      <td>67</td>\n",
       "      <td>HO</td>\n",
       "      <td>MEDICARE</td>\n",
       "      <td>2022-09-15</td>\n",
       "      <td>2022-09-16</td>\n",
       "      <td>1.0</td>\n",
       "      <td>['E78.5', 'Z23', 'K92.2', 'B20', 'N17.9', 'D64...</td>\n",
       "      <td>[172656352]</td>\n",
       "      <td>2</td>\n",
       "      <td>2022-05-17</td>\n",
       "      <td>Yes</td>\n",
       "    </tr>\n",
       "    <tr>\n",
       "      <th>34</th>\n",
       "      <td>16783637</td>\n",
       "      <td>191030086</td>\n",
       "      <td>2022-08-27</td>\n",
       "      <td>52</td>\n",
       "      <td>HO</td>\n",
       "      <td>Private health insurance, other commercial Ind...</td>\n",
       "      <td>2022-08-27</td>\n",
       "      <td>2022-08-27</td>\n",
       "      <td>1.0</td>\n",
       "      <td>['R30.0', 'R39.9']</td>\n",
       "      <td>[191030086]</td>\n",
       "      <td>1</td>\n",
       "      <td>2021-05-11</td>\n",
       "      <td>Yes</td>\n",
       "    </tr>\n",
       "    <tr>\n",
       "      <th>55</th>\n",
       "      <td>16788105</td>\n",
       "      <td>177930477</td>\n",
       "      <td>2021-06-26</td>\n",
       "      <td>30</td>\n",
       "      <td>HO</td>\n",
       "      <td>Managed Care (Private)</td>\n",
       "      <td>2021-06-26</td>\n",
       "      <td>2021-06-27</td>\n",
       "      <td>1.0</td>\n",
       "      <td>['R19.7', 'N12', 'R31.9', 'Z32.02', 'N10']</td>\n",
       "      <td>[177930477]</td>\n",
       "      <td>2</td>\n",
       "      <td>2021-04-30</td>\n",
       "      <td>Yes</td>\n",
       "    </tr>\n",
       "    <tr>\n",
       "      <th>56</th>\n",
       "      <td>16788105</td>\n",
       "      <td>183232133</td>\n",
       "      <td>2022-09-16</td>\n",
       "      <td>31</td>\n",
       "      <td>HO</td>\n",
       "      <td>Managed Care (Private)</td>\n",
       "      <td>2022-09-16</td>\n",
       "      <td>2022-09-16</td>\n",
       "      <td>1.0</td>\n",
       "      <td>['Z34.90', 'R10.9', 'Z3A.35', 'O26.893']</td>\n",
       "      <td>[183232133]</td>\n",
       "      <td>1</td>\n",
       "      <td>2021-04-30</td>\n",
       "      <td>Yes</td>\n",
       "    </tr>\n",
       "    <tr>\n",
       "      <th>57</th>\n",
       "      <td>16788105</td>\n",
       "      <td>216484449</td>\n",
       "      <td>2022-10-15</td>\n",
       "      <td>32</td>\n",
       "      <td>HO</td>\n",
       "      <td>Managed Care (Private)</td>\n",
       "      <td>2022-10-15</td>\n",
       "      <td>2022-10-17</td>\n",
       "      <td>2.0</td>\n",
       "      <td>['O72.1', 'Z20.822', 'O76', 'Z3A.39', 'Z34.90'...</td>\n",
       "      <td>[216484449]</td>\n",
       "      <td>3</td>\n",
       "      <td>2021-04-30</td>\n",
       "      <td>Yes</td>\n",
       "    </tr>\n",
       "    <tr>\n",
       "      <th>79</th>\n",
       "      <td>16792607</td>\n",
       "      <td>177135961</td>\n",
       "      <td>2022-10-03</td>\n",
       "      <td>57</td>\n",
       "      <td>HO</td>\n",
       "      <td>MEDICARE</td>\n",
       "      <td>2022-10-03</td>\n",
       "      <td>2022-10-03</td>\n",
       "      <td>1.0</td>\n",
       "      <td>['R07.81', 'M79.601']</td>\n",
       "      <td>[177135961]</td>\n",
       "      <td>1</td>\n",
       "      <td>2022-01-18</td>\n",
       "      <td>Yes</td>\n",
       "    </tr>\n",
       "    <tr>\n",
       "      <th>111</th>\n",
       "      <td>16800876</td>\n",
       "      <td>174106015</td>\n",
       "      <td>2022-02-26</td>\n",
       "      <td>63</td>\n",
       "      <td>HO</td>\n",
       "      <td>Managed Care (Private)</td>\n",
       "      <td>2022-02-26</td>\n",
       "      <td>2022-02-26</td>\n",
       "      <td>1.0</td>\n",
       "      <td>['Z79.4', 'I10', 'W19.XXXA', 'M25.511', 'Z79.82']</td>\n",
       "      <td>[174106015]</td>\n",
       "      <td>1</td>\n",
       "      <td>2021-09-28</td>\n",
       "      <td>Yes</td>\n",
       "    </tr>\n",
       "    <tr>\n",
       "      <th>117</th>\n",
       "      <td>16804086</td>\n",
       "      <td>127285600</td>\n",
       "      <td>2022-08-16</td>\n",
       "      <td>87</td>\n",
       "      <td>SH</td>\n",
       "      <td>MEDICARE</td>\n",
       "      <td>2022-08-16</td>\n",
       "      <td>2022-08-17</td>\n",
       "      <td>1.0</td>\n",
       "      <td>['R79.89', 'I10', 'Z79.899', 'R10.33']</td>\n",
       "      <td>[127285600, 173092473]</td>\n",
       "      <td>2</td>\n",
       "      <td>2021-03-25</td>\n",
       "      <td>Yes</td>\n",
       "    </tr>\n",
       "    <tr>\n",
       "      <th>118</th>\n",
       "      <td>16804189</td>\n",
       "      <td>120194091</td>\n",
       "      <td>2022-05-19</td>\n",
       "      <td>66</td>\n",
       "      <td>HO</td>\n",
       "      <td>Managed Care (Private)</td>\n",
       "      <td>2022-05-19</td>\n",
       "      <td>2022-05-19</td>\n",
       "      <td>1.0</td>\n",
       "      <td>['M54.50', 'J45.909', 'K21.9', 'E03.9']</td>\n",
       "      <td>[120194091]</td>\n",
       "      <td>1</td>\n",
       "      <td>2021-02-14</td>\n",
       "      <td>Yes</td>\n",
       "    </tr>\n",
       "    <tr>\n",
       "      <th>129</th>\n",
       "      <td>16805691</td>\n",
       "      <td>176082653</td>\n",
       "      <td>2022-07-29</td>\n",
       "      <td>75</td>\n",
       "      <td>HO</td>\n",
       "      <td>MEDICARE</td>\n",
       "      <td>2022-07-29</td>\n",
       "      <td>2022-07-30</td>\n",
       "      <td>1.0</td>\n",
       "      <td>['E78.5', 'E86.0', 'I48.91', 'Z86.73', 'Z20.82...</td>\n",
       "      <td>[176082653]</td>\n",
       "      <td>2</td>\n",
       "      <td>2021-03-12</td>\n",
       "      <td>Yes</td>\n",
       "    </tr>\n",
       "    <tr>\n",
       "      <th>167</th>\n",
       "      <td>16810644</td>\n",
       "      <td>171892499</td>\n",
       "      <td>2021-09-15</td>\n",
       "      <td>61</td>\n",
       "      <td>HO</td>\n",
       "      <td>Managed Care (Private)</td>\n",
       "      <td>2021-09-15</td>\n",
       "      <td>2021-09-15</td>\n",
       "      <td>1.0</td>\n",
       "      <td>['E78.5', 'R55', 'S00.81XA', 'I10', 'I45.10', ...</td>\n",
       "      <td>[171892499]</td>\n",
       "      <td>1</td>\n",
       "      <td>2021-04-26</td>\n",
       "      <td>Yes</td>\n",
       "    </tr>\n",
       "    <tr>\n",
       "      <th>173</th>\n",
       "      <td>16811518</td>\n",
       "      <td>201850435</td>\n",
       "      <td>2022-10-16</td>\n",
       "      <td>57</td>\n",
       "      <td>HO</td>\n",
       "      <td>Managed Care (Private)</td>\n",
       "      <td>2022-10-16</td>\n",
       "      <td>2022-10-16</td>\n",
       "      <td>1.0</td>\n",
       "      <td>['M25.571']</td>\n",
       "      <td>[201850435]</td>\n",
       "      <td>1</td>\n",
       "      <td>2021-04-17</td>\n",
       "      <td>Yes</td>\n",
       "    </tr>\n",
       "    <tr>\n",
       "      <th>178</th>\n",
       "      <td>16812536</td>\n",
       "      <td>93773462</td>\n",
       "      <td>2021-12-09</td>\n",
       "      <td>70</td>\n",
       "      <td>IP</td>\n",
       "      <td>Medicare HMO</td>\n",
       "      <td>2021-12-09</td>\n",
       "      <td>2021-12-10</td>\n",
       "      <td>1.0</td>\n",
       "      <td>['I10', 'I44.0', 'R07.89', 'Z79.82']</td>\n",
       "      <td>[93773462, 122536804]</td>\n",
       "      <td>2</td>\n",
       "      <td>2021-03-30</td>\n",
       "      <td>Yes</td>\n",
       "    </tr>\n",
       "    <tr>\n",
       "      <th>181</th>\n",
       "      <td>16812851</td>\n",
       "      <td>200497544</td>\n",
       "      <td>2022-11-28</td>\n",
       "      <td>33</td>\n",
       "      <td>HO</td>\n",
       "      <td>Managed Care (Private)</td>\n",
       "      <td>2022-11-28</td>\n",
       "      <td>2022-11-28</td>\n",
       "      <td>1.0</td>\n",
       "      <td>['T14.8XXA', 'L08.9']</td>\n",
       "      <td>[200497544]</td>\n",
       "      <td>1</td>\n",
       "      <td>2022-10-06</td>\n",
       "      <td>Yes</td>\n",
       "    </tr>\n",
       "    <tr>\n",
       "      <th>197</th>\n",
       "      <td>16817307</td>\n",
       "      <td>91114178</td>\n",
       "      <td>2022-03-31</td>\n",
       "      <td>78</td>\n",
       "      <td>HO</td>\n",
       "      <td>Medicare HMO</td>\n",
       "      <td>2022-03-31</td>\n",
       "      <td>2022-03-31</td>\n",
       "      <td>1.0</td>\n",
       "      <td>['C67.8', 'K22.70', 'R05.9', 'M54.50', 'M15.9'...</td>\n",
       "      <td>[91114178]</td>\n",
       "      <td>1</td>\n",
       "      <td>2021-03-05</td>\n",
       "      <td>Yes</td>\n",
       "    </tr>\n",
       "    <tr>\n",
       "      <th>198</th>\n",
       "      <td>16817307</td>\n",
       "      <td>110122633</td>\n",
       "      <td>2022-04-12</td>\n",
       "      <td>78</td>\n",
       "      <td>OT</td>\n",
       "      <td>Medicare HMO</td>\n",
       "      <td>2022-04-12</td>\n",
       "      <td>2022-04-12</td>\n",
       "      <td>1.0</td>\n",
       "      <td>['E86.0', 'R11.2']</td>\n",
       "      <td>[110122633]</td>\n",
       "      <td>1</td>\n",
       "      <td>2021-03-05</td>\n",
       "      <td>Yes</td>\n",
       "    </tr>\n",
       "    <tr>\n",
       "      <th>199</th>\n",
       "      <td>16817307</td>\n",
       "      <td>201172558</td>\n",
       "      <td>2022-11-29</td>\n",
       "      <td>78</td>\n",
       "      <td>HO</td>\n",
       "      <td>Medicare HMO</td>\n",
       "      <td>2022-11-29</td>\n",
       "      <td>2022-11-29</td>\n",
       "      <td>1.0</td>\n",
       "      <td>['R11.2', 'R35.0']</td>\n",
       "      <td>[201172558]</td>\n",
       "      <td>1</td>\n",
       "      <td>2021-03-05</td>\n",
       "      <td>Yes</td>\n",
       "    </tr>\n",
       "    <tr>\n",
       "      <th>212</th>\n",
       "      <td>16819026</td>\n",
       "      <td>158664691</td>\n",
       "      <td>2023-01-01</td>\n",
       "      <td>43</td>\n",
       "      <td>HO</td>\n",
       "      <td>Managed Care (Private)</td>\n",
       "      <td>2023-01-01</td>\n",
       "      <td>2023-01-01</td>\n",
       "      <td>1.0</td>\n",
       "      <td>['R05.1']</td>\n",
       "      <td>[158664691]</td>\n",
       "      <td>1</td>\n",
       "      <td>2021-06-25</td>\n",
       "      <td>Yes</td>\n",
       "    </tr>\n",
       "    <tr>\n",
       "      <th>236</th>\n",
       "      <td>16828533</td>\n",
       "      <td>113124794</td>\n",
       "      <td>2022-11-22</td>\n",
       "      <td>77</td>\n",
       "      <td>HH</td>\n",
       "      <td>Medicare HMO</td>\n",
       "      <td>2022-11-22</td>\n",
       "      <td>2022-11-29</td>\n",
       "      <td>7.0</td>\n",
       "      <td>['Z79.84', 'I48.19', 'D69.6', 'R57.8', 'N17.9'...</td>\n",
       "      <td>[113124794, 116760078]</td>\n",
       "      <td>8</td>\n",
       "      <td>2022-09-29</td>\n",
       "      <td>Yes</td>\n",
       "    </tr>\n",
       "    <tr>\n",
       "      <th>300</th>\n",
       "      <td>16841690</td>\n",
       "      <td>145394489</td>\n",
       "      <td>2022-09-29</td>\n",
       "      <td>72</td>\n",
       "      <td>IP</td>\n",
       "      <td>MEDICARE</td>\n",
       "      <td>2022-09-29</td>\n",
       "      <td>2022-09-30</td>\n",
       "      <td>1.0</td>\n",
       "      <td>['Z87.891', 'Z20.822', 'I35.0', 'N18.30', 'I12...</td>\n",
       "      <td>[145394489, 158961338]</td>\n",
       "      <td>2</td>\n",
       "      <td>2021-04-10</td>\n",
       "      <td>Yes</td>\n",
       "    </tr>\n",
       "  </tbody>\n",
       "</table>\n",
       "</div>"
      ],
      "text/plain": [
       "    patient_num  encounter_num dx_date_shifted  age_at_visit_years  \\\n",
       "0      16777551      172656352      2022-09-15                  67   \n",
       "34     16783637      191030086      2022-08-27                  52   \n",
       "55     16788105      177930477      2021-06-26                  30   \n",
       "56     16788105      183232133      2022-09-16                  31   \n",
       "57     16788105      216484449      2022-10-15                  32   \n",
       "79     16792607      177135961      2022-10-03                  57   \n",
       "111    16800876      174106015      2022-02-26                  63   \n",
       "117    16804086      127285600      2022-08-16                  87   \n",
       "118    16804189      120194091      2022-05-19                  66   \n",
       "129    16805691      176082653      2022-07-29                  75   \n",
       "167    16810644      171892499      2021-09-15                  61   \n",
       "173    16811518      201850435      2022-10-16                  57   \n",
       "178    16812536       93773462      2021-12-09                  70   \n",
       "181    16812851      200497544      2022-11-28                  33   \n",
       "197    16817307       91114178      2022-03-31                  78   \n",
       "198    16817307      110122633      2022-04-12                  78   \n",
       "199    16817307      201172558      2022-11-29                  78   \n",
       "212    16819026      158664691      2023-01-01                  43   \n",
       "236    16828533      113124794      2022-11-22                  77   \n",
       "300    16841690      145394489      2022-09-29                  72   \n",
       "\n",
       "    discharge_status_c                            payor_type_primary_name  \\\n",
       "0                   HO                                           MEDICARE   \n",
       "34                  HO  Private health insurance, other commercial Ind...   \n",
       "55                  HO                             Managed Care (Private)   \n",
       "56                  HO                             Managed Care (Private)   \n",
       "57                  HO                             Managed Care (Private)   \n",
       "79                  HO                                           MEDICARE   \n",
       "111                 HO                             Managed Care (Private)   \n",
       "117                 SH                                           MEDICARE   \n",
       "118                 HO                             Managed Care (Private)   \n",
       "129                 HO                                           MEDICARE   \n",
       "167                 HO                             Managed Care (Private)   \n",
       "173                 HO                             Managed Care (Private)   \n",
       "178                 IP                                       Medicare HMO   \n",
       "181                 HO                             Managed Care (Private)   \n",
       "197                 HO                                       Medicare HMO   \n",
       "198                 OT                                       Medicare HMO   \n",
       "199                 HO                                       Medicare HMO   \n",
       "212                 HO                             Managed Care (Private)   \n",
       "236                 HH                                       Medicare HMO   \n",
       "300                 IP                                           MEDICARE   \n",
       "\n",
       "    admit_date_shifted discharge_date_shifted  length_of_stay_days  \\\n",
       "0           2022-09-15             2022-09-16                  1.0   \n",
       "34          2022-08-27             2022-08-27                  1.0   \n",
       "55          2021-06-26             2021-06-27                  1.0   \n",
       "56          2022-09-16             2022-09-16                  1.0   \n",
       "57          2022-10-15             2022-10-17                  2.0   \n",
       "79          2022-10-03             2022-10-03                  1.0   \n",
       "111         2022-02-26             2022-02-26                  1.0   \n",
       "117         2022-08-16             2022-08-17                  1.0   \n",
       "118         2022-05-19             2022-05-19                  1.0   \n",
       "129         2022-07-29             2022-07-30                  1.0   \n",
       "167         2021-09-15             2021-09-15                  1.0   \n",
       "173         2022-10-16             2022-10-16                  1.0   \n",
       "178         2021-12-09             2021-12-10                  1.0   \n",
       "181         2022-11-28             2022-11-28                  1.0   \n",
       "197         2022-03-31             2022-03-31                  1.0   \n",
       "198         2022-04-12             2022-04-12                  1.0   \n",
       "199         2022-11-29             2022-11-29                  1.0   \n",
       "212         2023-01-01             2023-01-01                  1.0   \n",
       "236         2022-11-22             2022-11-29                  7.0   \n",
       "300         2022-09-29             2022-09-30                  1.0   \n",
       "\n",
       "                                          dx_code_list  \\\n",
       "0    ['E78.5', 'Z23', 'K92.2', 'B20', 'N17.9', 'D64...   \n",
       "34                                  ['R30.0', 'R39.9']   \n",
       "55          ['R19.7', 'N12', 'R31.9', 'Z32.02', 'N10']   \n",
       "56            ['Z34.90', 'R10.9', 'Z3A.35', 'O26.893']   \n",
       "57   ['O72.1', 'Z20.822', 'O76', 'Z3A.39', 'Z34.90'...   \n",
       "79                               ['R07.81', 'M79.601']   \n",
       "111  ['Z79.4', 'I10', 'W19.XXXA', 'M25.511', 'Z79.82']   \n",
       "117             ['R79.89', 'I10', 'Z79.899', 'R10.33']   \n",
       "118            ['M54.50', 'J45.909', 'K21.9', 'E03.9']   \n",
       "129  ['E78.5', 'E86.0', 'I48.91', 'Z86.73', 'Z20.82...   \n",
       "167  ['E78.5', 'R55', 'S00.81XA', 'I10', 'I45.10', ...   \n",
       "173                                        ['M25.571']   \n",
       "178               ['I10', 'I44.0', 'R07.89', 'Z79.82']   \n",
       "181                              ['T14.8XXA', 'L08.9']   \n",
       "197  ['C67.8', 'K22.70', 'R05.9', 'M54.50', 'M15.9'...   \n",
       "198                                 ['E86.0', 'R11.2']   \n",
       "199                                 ['R11.2', 'R35.0']   \n",
       "212                                          ['R05.1']   \n",
       "236  ['Z79.84', 'I48.19', 'D69.6', 'R57.8', 'N17.9'...   \n",
       "300  ['Z87.891', 'Z20.822', 'I35.0', 'N18.30', 'I12...   \n",
       "\n",
       "             encounter_list  total_length_of_stay date_of_full_vaccination  \\\n",
       "0               [172656352]                     2               2022-05-17   \n",
       "34              [191030086]                     1               2021-05-11   \n",
       "55              [177930477]                     2               2021-04-30   \n",
       "56              [183232133]                     1               2021-04-30   \n",
       "57              [216484449]                     3               2021-04-30   \n",
       "79              [177135961]                     1               2022-01-18   \n",
       "111             [174106015]                     1               2021-09-28   \n",
       "117  [127285600, 173092473]                     2               2021-03-25   \n",
       "118             [120194091]                     1               2021-02-14   \n",
       "129             [176082653]                     2               2021-03-12   \n",
       "167             [171892499]                     1               2021-04-26   \n",
       "173             [201850435]                     1               2021-04-17   \n",
       "178   [93773462, 122536804]                     2               2021-03-30   \n",
       "181             [200497544]                     1               2022-10-06   \n",
       "197              [91114178]                     1               2021-03-05   \n",
       "198             [110122633]                     1               2021-03-05   \n",
       "199             [201172558]                     1               2021-03-05   \n",
       "212             [158664691]                     1               2021-06-25   \n",
       "236  [113124794, 116760078]                     8               2022-09-29   \n",
       "300  [145394489, 158961338]                     2               2021-04-10   \n",
       "\n",
       "    admission_after_vaccine  \n",
       "0                       Yes  \n",
       "34                      Yes  \n",
       "55                      Yes  \n",
       "56                      Yes  \n",
       "57                      Yes  \n",
       "79                      Yes  \n",
       "111                     Yes  \n",
       "117                     Yes  \n",
       "118                     Yes  \n",
       "129                     Yes  \n",
       "167                     Yes  \n",
       "173                     Yes  \n",
       "178                     Yes  \n",
       "181                     Yes  \n",
       "197                     Yes  \n",
       "198                     Yes  \n",
       "199                     Yes  \n",
       "212                     Yes  \n",
       "236                     Yes  \n",
       "300                     Yes  "
      ]
     },
     "execution_count": 27,
     "metadata": {},
     "output_type": "execute_result"
    }
   ],
   "source": [
    "patients_with_vaccine_info.head(20)"
   ]
  },
  {
   "cell_type": "markdown",
   "metadata": {
    "collapsed": false
   },
   "source": [
    "## Drop unnecessary columns"
   ]
  },
  {
   "cell_type": "code",
   "execution_count": 28,
   "metadata": {
    "ExecuteTime": {
     "end_time": "2023-10-27T04:01:11.060052Z",
     "start_time": "2023-10-27T04:01:11.050331Z"
    },
    "collapsed": false
   },
   "outputs": [
    {
     "data": {
      "text/plain": [
       "Index(['patient_num', 'encounter_num', 'dx_date_shifted', 'age_at_visit_years',\n",
       "       'discharge_status_c', 'payor_type_primary_name', 'admit_date_shifted',\n",
       "       'discharge_date_shifted', 'length_of_stay_days', 'dx_code_list',\n",
       "       'encounter_list', 'total_length_of_stay', 'date_of_full_vaccination',\n",
       "       'admission_after_vaccine'],\n",
       "      dtype='object')"
      ]
     },
     "execution_count": 28,
     "metadata": {},
     "output_type": "execute_result"
    }
   ],
   "source": [
    "patients_with_vaccine_info.columns"
   ]
  },
  {
   "cell_type": "code",
   "execution_count": 29,
   "metadata": {
    "ExecuteTime": {
     "end_time": "2023-10-27T04:01:11.350457Z",
     "start_time": "2023-10-27T04:01:11.055094Z"
    },
    "collapsed": false
   },
   "outputs": [],
   "source": [
    "neglect_columns = ['encounter_list', 'date_of_full_vaccination', 'length_of_stay_days']\n",
    "all_patients = patients_with_vaccine_info.drop(columns=neglect_columns)\n",
    "save_processed_data(all_patients, 'all_patients_with_dxcode_vaccine_info')"
   ]
  },
  {
   "cell_type": "code",
   "execution_count": 29,
   "metadata": {
    "ExecuteTime": {
     "end_time": "2023-10-27T04:01:11.352199Z",
     "start_time": "2023-10-27T04:01:11.350632Z"
    },
    "collapsed": false
   },
   "outputs": [],
   "source": []
  }
 ],
 "metadata": {
  "kernelspec": {
   "display_name": "Python 3.8.16 ('ml')",
   "language": "python",
   "name": "python3"
  },
  "language_info": {
   "codemirror_mode": {
    "name": "ipython",
    "version": 3
   },
   "file_extension": ".py",
   "mimetype": "text/x-python",
   "name": "python",
   "nbconvert_exporter": "python",
   "pygments_lexer": "ipython3",
   "version": "3.10.13"
  },
  "orig_nbformat": 4,
  "vscode": {
   "interpreter": {
    "hash": "131055084be70e347b807c2fb4fffb4102c774fd073b0992fff3bb2c40c20f92"
   }
  }
 },
 "nbformat": 4,
 "nbformat_minor": 2
}
